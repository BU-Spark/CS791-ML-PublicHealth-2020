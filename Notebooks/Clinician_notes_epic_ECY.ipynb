{
  "nbformat": 4,
  "nbformat_minor": 0,
  "metadata": {
    "colab": {
      "name": "Clinician_notes_epic_ECY.ipynb",
      "provenance": []
    },
    "kernelspec": {
      "name": "python3",
      "display_name": "Python 3"
    }
  },
  "cells": [
    {
      "cell_type": "markdown",
      "metadata": {
        "id": "OSyH6K9J_4sq",
        "colab_type": "text"
      },
      "source": [
        "# **EPIC NOTES**"
      ]
    },
    {
      "cell_type": "code",
      "metadata": {
        "id": "kQAtvlrW_0Q2",
        "colab_type": "code",
        "colab": {}
      },
      "source": [
        "!pip install seqeval\n",
        "!pip install scispacy\n",
        "!pip install https://s3-us-west-2.amazonaws.com/ai2-s2-scispacy/releases/v0.2.4/en_core_sci_sm-0.2.4.tar.gz"
      ],
      "execution_count": 0,
      "outputs": []
    },
    {
      "cell_type": "code",
      "metadata": {
        "id": "h1F6k5ot_-fZ",
        "colab_type": "code",
        "colab": {}
      },
      "source": [
        "import pandas as pd\n",
        "import numpy as np\n",
        "\n",
        "from scipy import sparse\n",
        "\n",
        "import warnings\n",
        "warnings.filterwarnings(\"ignore\")\n",
        "from collections import defaultdict\n",
        "\n",
        "import matplotlib.pyplot as plt\n",
        "%matplotlib inline\n",
        "import itertools\n",
        "from plotly.offline import iplot, init_notebook_mode\n",
        "import plotly.graph_objs as go\n",
        "\n",
        "from sklearn.model_selection import train_test_split\n",
        "from sklearn import preprocessing\n",
        "from sklearn.metrics import f1_score\n",
        "from sklearn.feature_extraction.text import TfidfVectorizer, CountVectorizer\n",
        "from sklearn.base import BaseEstimator, ClassifierMixin\n",
        "from sklearn.linear_model import LogisticRegression\n",
        "from sklearn.pipeline import Pipeline, make_pipeline\n",
        "from sklearn.model_selection import cross_val_score\n",
        "from sklearn.svm import LinearSVC\n",
        "from sklearn.metrics import accuracy_score, classification_report, confusion_matrix, precision_recall_fscore_support\n",
        "from sklearn.neighbors import KNeighborsClassifier\n",
        "from sklearn.naive_bayes import MultinomialNB, GaussianNB\n",
        "\n",
        "from seqeval.metrics import precision_score, recall_score, f1_score, classification_report\n",
        "from keras.preprocessing.text import text_to_word_sequence\n",
        "import pickle\n",
        "\n",
        "import scispacy\n",
        "import spacy\n",
        "from scispacy.abbreviation import AbbreviationDetector\n",
        "from spacy import displacy\n",
        "import en_core_sci_sm"
      ],
      "execution_count": 0,
      "outputs": []
    },
    {
      "cell_type": "code",
      "metadata": {
        "id": "0exH5nQIAABy",
        "colab_type": "code",
        "colab": {
          "base_uri": "https://localhost:8080/",
          "height": 1000
        },
        "outputId": "e28a3de1-e57b-4de7-b156-c23c03147426"
      },
      "source": [
        "#Reading the csv file\n",
        "df = pd.read_csv('Epic.csv', encoding = \"ISO-8859-1\")\n",
        "df"
      ],
      "execution_count": 4,
      "outputs": [
        {
          "output_type": "execute_result",
          "data": {
            "text/html": [
              "<div>\n",
              "<style scoped>\n",
              "    .dataframe tbody tr th:only-of-type {\n",
              "        vertical-align: middle;\n",
              "    }\n",
              "\n",
              "    .dataframe tbody tr th {\n",
              "        vertical-align: top;\n",
              "    }\n",
              "\n",
              "    .dataframe thead th {\n",
              "        text-align: right;\n",
              "    }\n",
              "</style>\n",
              "<table border=\"1\" class=\"dataframe\">\n",
              "  <thead>\n",
              "    <tr style=\"text-align: right;\">\n",
              "      <th></th>\n",
              "      <th>id</th>\n",
              "      <th>enroll</th>\n",
              "      <th>contact_date</th>\n",
              "      <th>department_name</th>\n",
              "      <th>doc_name</th>\n",
              "      <th>NOTE</th>\n",
              "      <th>Alcohol Use</th>\n",
              "      <th>Amount</th>\n",
              "      <th>Alcohol Abuse Current</th>\n",
              "      <th>Alcohol Abuse Past</th>\n",
              "      <th>Current Drug Use</th>\n",
              "      <th>Past Drug Use</th>\n",
              "      <th>Type</th>\n",
              "      <th>Current Smoker</th>\n",
              "      <th>Former Smoker</th>\n",
              "      <th>Amount.1</th>\n",
              "      <th>NOTES/COMMENTS</th>\n",
              "      <th>Mention_any</th>\n",
              "      <th>Mention_alcohol_use</th>\n",
              "      <th>Mention_alcohol_abuse_curr</th>\n",
              "      <th>Mention_alcohol_abuse_past</th>\n",
              "      <th>Mention_current_drug_use</th>\n",
              "    </tr>\n",
              "  </thead>\n",
              "  <tbody>\n",
              "    <tr>\n",
              "      <th>0</th>\n",
              "      <td>2642</td>\n",
              "      <td>ENR-016576</td>\n",
              "      <td>1/9/2019</td>\n",
              "      <td>SHA PRIMARY CARE 5A</td>\n",
              "      <td>Progress Notes</td>\n",
              "      <td>ogress Note Subjective: Patient ID: xxx V xxx ...</td>\n",
              "      <td>N</td>\n",
              "      <td>NaN</td>\n",
              "      <td>NaN</td>\n",
              "      <td>NaN</td>\n",
              "      <td>Y</td>\n",
              "      <td>NaN</td>\n",
              "      <td>CRACK COCAINE</td>\n",
              "      <td>Y</td>\n",
              "      <td>NaN</td>\n",
              "      <td>SOME DAY SMOKER</td>\n",
              "      <td>NaN</td>\n",
              "      <td>1.0</td>\n",
              "      <td>1.0</td>\n",
              "      <td>0.0</td>\n",
              "      <td>0.0</td>\n",
              "      <td>1.0</td>\n",
              "    </tr>\n",
              "    <tr>\n",
              "      <th>1</th>\n",
              "      <td>2642</td>\n",
              "      <td>ENR-016576</td>\n",
              "      <td>1/13/2017</td>\n",
              "      <td>SHA PRIMARY CARE 5A</td>\n",
              "      <td>Progress Notes</td>\n",
              "      <td>ogress Note Subjective: Patient ID: xxx V xxx ...</td>\n",
              "      <td>N</td>\n",
              "      <td>NaN</td>\n",
              "      <td>NaN</td>\n",
              "      <td>NaN</td>\n",
              "      <td>Y</td>\n",
              "      <td>NaN</td>\n",
              "      <td>CRACK COCAINE</td>\n",
              "      <td>Y</td>\n",
              "      <td>NaN</td>\n",
              "      <td>SOME DAY SMOKER</td>\n",
              "      <td>NaN</td>\n",
              "      <td>1.0</td>\n",
              "      <td>1.0</td>\n",
              "      <td>0.0</td>\n",
              "      <td>0.0</td>\n",
              "      <td>1.0</td>\n",
              "    </tr>\n",
              "    <tr>\n",
              "      <th>2</th>\n",
              "      <td>2642</td>\n",
              "      <td>ENR-016576</td>\n",
              "      <td>1/15/2018</td>\n",
              "      <td>MEN EMERGENCY DEPT</td>\n",
              "      <td>ED Notes</td>\n",
              "      <td>Pt presents c/o atraumatic right arm pain x 1 ...</td>\n",
              "      <td>NaN</td>\n",
              "      <td>NaN</td>\n",
              "      <td>NaN</td>\n",
              "      <td>NaN</td>\n",
              "      <td>NaN</td>\n",
              "      <td>NaN</td>\n",
              "      <td>NaN</td>\n",
              "      <td>NaN</td>\n",
              "      <td>NaN</td>\n",
              "      <td>NaN</td>\n",
              "      <td>NaN</td>\n",
              "      <td>0.0</td>\n",
              "      <td>0.0</td>\n",
              "      <td>0.0</td>\n",
              "      <td>0.0</td>\n",
              "      <td>0.0</td>\n",
              "    </tr>\n",
              "    <tr>\n",
              "      <th>3</th>\n",
              "      <td>2642</td>\n",
              "      <td>ENR-016576</td>\n",
              "      <td>1/15/2018</td>\n",
              "      <td>MEN EMERGENCY DEPT</td>\n",
              "      <td>ED Provider Notes</td>\n",
              "      <td>History Chief Complaint Patient presents with ...</td>\n",
              "      <td>N</td>\n",
              "      <td>NaN</td>\n",
              "      <td>NaN</td>\n",
              "      <td>NaN</td>\n",
              "      <td>Y</td>\n",
              "      <td>NaN</td>\n",
              "      <td>CRACK COCAINE</td>\n",
              "      <td>Y</td>\n",
              "      <td>NaN</td>\n",
              "      <td>SOME DAY SMOKER</td>\n",
              "      <td>NaN</td>\n",
              "      <td>1.0</td>\n",
              "      <td>1.0</td>\n",
              "      <td>0.0</td>\n",
              "      <td>0.0</td>\n",
              "      <td>1.0</td>\n",
              "    </tr>\n",
              "    <tr>\n",
              "      <th>4</th>\n",
              "      <td>2642</td>\n",
              "      <td>ENR-016576</td>\n",
              "      <td>1/20/2017</td>\n",
              "      <td>SHA PRIMARY CARE 5A</td>\n",
              "      <td>Progress Notes</td>\n",
              "      <td>ogress Note Subjective: Patient ID: xxx V xxx ...</td>\n",
              "      <td>N</td>\n",
              "      <td>NaN</td>\n",
              "      <td>NaN</td>\n",
              "      <td>NaN</td>\n",
              "      <td>Y</td>\n",
              "      <td>NaN</td>\n",
              "      <td>CRACK COCAINE</td>\n",
              "      <td>Y</td>\n",
              "      <td>NaN</td>\n",
              "      <td>SOME DAY SMOKER</td>\n",
              "      <td>NaN</td>\n",
              "      <td>1.0</td>\n",
              "      <td>1.0</td>\n",
              "      <td>0.0</td>\n",
              "      <td>0.0</td>\n",
              "      <td>1.0</td>\n",
              "    </tr>\n",
              "    <tr>\n",
              "      <th>...</th>\n",
              "      <td>...</td>\n",
              "      <td>...</td>\n",
              "      <td>...</td>\n",
              "      <td>...</td>\n",
              "      <td>...</td>\n",
              "      <td>...</td>\n",
              "      <td>...</td>\n",
              "      <td>...</td>\n",
              "      <td>...</td>\n",
              "      <td>...</td>\n",
              "      <td>...</td>\n",
              "      <td>...</td>\n",
              "      <td>...</td>\n",
              "      <td>...</td>\n",
              "      <td>...</td>\n",
              "      <td>...</td>\n",
              "      <td>...</td>\n",
              "      <td>...</td>\n",
              "      <td>...</td>\n",
              "      <td>...</td>\n",
              "      <td>...</td>\n",
              "      <td>...</td>\n",
              "    </tr>\n",
              "    <tr>\n",
              "      <th>1819</th>\n",
              "      <td>40000</td>\n",
              "      <td>ENR-060097</td>\n",
              "      <td>12/26/2017</td>\n",
              "      <td>MOA HEMATOLOGY</td>\n",
              "      <td>Progress Notes</td>\n",
              "      <td>Progress Note Subjective: Patient ID: xxx L xx...</td>\n",
              "      <td>NaN</td>\n",
              "      <td>NaN</td>\n",
              "      <td>NaN</td>\n",
              "      <td>NaN</td>\n",
              "      <td>NaN</td>\n",
              "      <td>NaN</td>\n",
              "      <td>NaN</td>\n",
              "      <td>NaN</td>\n",
              "      <td>NaN</td>\n",
              "      <td>NaN</td>\n",
              "      <td>NaN</td>\n",
              "      <td>NaN</td>\n",
              "      <td>NaN</td>\n",
              "      <td>NaN</td>\n",
              "      <td>NaN</td>\n",
              "      <td>NaN</td>\n",
              "    </tr>\n",
              "    <tr>\n",
              "      <th>1820</th>\n",
              "      <td>40000</td>\n",
              "      <td>ENR-060097</td>\n",
              "      <td>12/27/2018</td>\n",
              "      <td>NaN</td>\n",
              "      <td>ED Attestation</td>\n",
              "      <td>ED Attending Attestation I have personally see...</td>\n",
              "      <td>NaN</td>\n",
              "      <td>NaN</td>\n",
              "      <td>NaN</td>\n",
              "      <td>NaN</td>\n",
              "      <td>NaN</td>\n",
              "      <td>NaN</td>\n",
              "      <td>NaN</td>\n",
              "      <td>NaN</td>\n",
              "      <td>NaN</td>\n",
              "      <td>NaN</td>\n",
              "      <td>NaN</td>\n",
              "      <td>NaN</td>\n",
              "      <td>NaN</td>\n",
              "      <td>NaN</td>\n",
              "      <td>NaN</td>\n",
              "      <td>NaN</td>\n",
              "    </tr>\n",
              "    <tr>\n",
              "      <th>1821</th>\n",
              "      <td>40000</td>\n",
              "      <td>ENR-060097</td>\n",
              "      <td>12/27/2018</td>\n",
              "      <td>NaN</td>\n",
              "      <td>ED Notes</td>\n",
              "      <td>Pt had returned from XR Pt placed in hallway P...</td>\n",
              "      <td>NaN</td>\n",
              "      <td>NaN</td>\n",
              "      <td>NaN</td>\n",
              "      <td>NaN</td>\n",
              "      <td>NaN</td>\n",
              "      <td>NaN</td>\n",
              "      <td>NaN</td>\n",
              "      <td>NaN</td>\n",
              "      <td>NaN</td>\n",
              "      <td>NaN</td>\n",
              "      <td>NaN</td>\n",
              "      <td>NaN</td>\n",
              "      <td>NaN</td>\n",
              "      <td>NaN</td>\n",
              "      <td>NaN</td>\n",
              "      <td>NaN</td>\n",
              "    </tr>\n",
              "    <tr>\n",
              "      <th>1822</th>\n",
              "      <td>40000</td>\n",
              "      <td>ENR-060097</td>\n",
              "      <td>12/27/2018</td>\n",
              "      <td>NaN</td>\n",
              "      <td>ED Provider Notes</td>\n",
              "      <td>History Chief Complaint Patient presents with ...</td>\n",
              "      <td>NaN</td>\n",
              "      <td>NaN</td>\n",
              "      <td>NaN</td>\n",
              "      <td>NaN</td>\n",
              "      <td>NaN</td>\n",
              "      <td>NaN</td>\n",
              "      <td>NaN</td>\n",
              "      <td>NaN</td>\n",
              "      <td>NaN</td>\n",
              "      <td>NaN</td>\n",
              "      <td>NaN</td>\n",
              "      <td>NaN</td>\n",
              "      <td>NaN</td>\n",
              "      <td>NaN</td>\n",
              "      <td>NaN</td>\n",
              "      <td>NaN</td>\n",
              "    </tr>\n",
              "    <tr>\n",
              "      <th>1823</th>\n",
              "      <td>40000</td>\n",
              "      <td>ENR-060097</td>\n",
              "      <td>12/27/2018</td>\n",
              "      <td>SHA PRIMARY CARE 6A</td>\n",
              "      <td>Progress Notes</td>\n",
              "      <td>Chief Complaint xxx, xxx is a 56 y.o. female w...</td>\n",
              "      <td>NaN</td>\n",
              "      <td>NaN</td>\n",
              "      <td>NaN</td>\n",
              "      <td>NaN</td>\n",
              "      <td>NaN</td>\n",
              "      <td>NaN</td>\n",
              "      <td>NaN</td>\n",
              "      <td>NaN</td>\n",
              "      <td>NaN</td>\n",
              "      <td>NaN</td>\n",
              "      <td>NaN</td>\n",
              "      <td>NaN</td>\n",
              "      <td>NaN</td>\n",
              "      <td>NaN</td>\n",
              "      <td>NaN</td>\n",
              "      <td>NaN</td>\n",
              "    </tr>\n",
              "  </tbody>\n",
              "</table>\n",
              "<p>1824 rows × 22 columns</p>\n",
              "</div>"
            ],
            "text/plain": [
              "         id      enroll  ... Mention_alcohol_abuse_past Mention_current_drug_use\n",
              "0      2642  ENR-016576  ...                        0.0                      1.0\n",
              "1      2642  ENR-016576  ...                        0.0                      1.0\n",
              "2      2642  ENR-016576  ...                        0.0                      0.0\n",
              "3      2642  ENR-016576  ...                        0.0                      1.0\n",
              "4      2642  ENR-016576  ...                        0.0                      1.0\n",
              "...     ...         ...  ...                        ...                      ...\n",
              "1819  40000  ENR-060097  ...                        NaN                      NaN\n",
              "1820  40000  ENR-060097  ...                        NaN                      NaN\n",
              "1821  40000  ENR-060097  ...                        NaN                      NaN\n",
              "1822  40000  ENR-060097  ...                        NaN                      NaN\n",
              "1823  40000  ENR-060097  ...                        NaN                      NaN\n",
              "\n",
              "[1824 rows x 22 columns]"
            ]
          },
          "metadata": {
            "tags": []
          },
          "execution_count": 4
        }
      ]
    },
    {
      "cell_type": "code",
      "metadata": {
        "id": "jG-eojRNAEjp",
        "colab_type": "code",
        "colab": {
          "base_uri": "https://localhost:8080/",
          "height": 317
        },
        "outputId": "91a34c7d-c7be-48b5-eee3-e7d247a46f31"
      },
      "source": [
        "df.describe()"
      ],
      "execution_count": 5,
      "outputs": [
        {
          "output_type": "execute_result",
          "data": {
            "text/html": [
              "<div>\n",
              "<style scoped>\n",
              "    .dataframe tbody tr th:only-of-type {\n",
              "        vertical-align: middle;\n",
              "    }\n",
              "\n",
              "    .dataframe tbody tr th {\n",
              "        vertical-align: top;\n",
              "    }\n",
              "\n",
              "    .dataframe thead th {\n",
              "        text-align: right;\n",
              "    }\n",
              "</style>\n",
              "<table border=\"1\" class=\"dataframe\">\n",
              "  <thead>\n",
              "    <tr style=\"text-align: right;\">\n",
              "      <th></th>\n",
              "      <th>id</th>\n",
              "      <th>Mention_any</th>\n",
              "      <th>Mention_alcohol_use</th>\n",
              "      <th>Mention_alcohol_abuse_curr</th>\n",
              "      <th>Mention_alcohol_abuse_past</th>\n",
              "      <th>Mention_current_drug_use</th>\n",
              "    </tr>\n",
              "  </thead>\n",
              "  <tbody>\n",
              "    <tr>\n",
              "      <th>count</th>\n",
              "      <td>1824.000000</td>\n",
              "      <td>1285.000000</td>\n",
              "      <td>1285.000000</td>\n",
              "      <td>1285.000000</td>\n",
              "      <td>1285.000000</td>\n",
              "      <td>1285.000000</td>\n",
              "    </tr>\n",
              "    <tr>\n",
              "      <th>mean</th>\n",
              "      <td>5161.366228</td>\n",
              "      <td>0.542412</td>\n",
              "      <td>0.266926</td>\n",
              "      <td>0.052918</td>\n",
              "      <td>0.077043</td>\n",
              "      <td>0.277043</td>\n",
              "    </tr>\n",
              "    <tr>\n",
              "      <th>std</th>\n",
              "      <td>9330.039616</td>\n",
              "      <td>0.498392</td>\n",
              "      <td>0.442526</td>\n",
              "      <td>0.223958</td>\n",
              "      <td>0.266763</td>\n",
              "      <td>0.447712</td>\n",
              "    </tr>\n",
              "    <tr>\n",
              "      <th>min</th>\n",
              "      <td>2593.000000</td>\n",
              "      <td>0.000000</td>\n",
              "      <td>0.000000</td>\n",
              "      <td>0.000000</td>\n",
              "      <td>0.000000</td>\n",
              "      <td>0.000000</td>\n",
              "    </tr>\n",
              "    <tr>\n",
              "      <th>25%</th>\n",
              "      <td>2645.000000</td>\n",
              "      <td>0.000000</td>\n",
              "      <td>0.000000</td>\n",
              "      <td>0.000000</td>\n",
              "      <td>0.000000</td>\n",
              "      <td>0.000000</td>\n",
              "    </tr>\n",
              "    <tr>\n",
              "      <th>50%</th>\n",
              "      <td>2667.000000</td>\n",
              "      <td>1.000000</td>\n",
              "      <td>0.000000</td>\n",
              "      <td>0.000000</td>\n",
              "      <td>0.000000</td>\n",
              "      <td>0.000000</td>\n",
              "    </tr>\n",
              "    <tr>\n",
              "      <th>75%</th>\n",
              "      <td>2698.000000</td>\n",
              "      <td>1.000000</td>\n",
              "      <td>1.000000</td>\n",
              "      <td>0.000000</td>\n",
              "      <td>0.000000</td>\n",
              "      <td>1.000000</td>\n",
              "    </tr>\n",
              "    <tr>\n",
              "      <th>max</th>\n",
              "      <td>40000.000000</td>\n",
              "      <td>1.000000</td>\n",
              "      <td>1.000000</td>\n",
              "      <td>1.000000</td>\n",
              "      <td>1.000000</td>\n",
              "      <td>1.000000</td>\n",
              "    </tr>\n",
              "  </tbody>\n",
              "</table>\n",
              "</div>"
            ],
            "text/plain": [
              "                 id  ...  Mention_current_drug_use\n",
              "count   1824.000000  ...               1285.000000\n",
              "mean    5161.366228  ...                  0.277043\n",
              "std     9330.039616  ...                  0.447712\n",
              "min     2593.000000  ...                  0.000000\n",
              "25%     2645.000000  ...                  0.000000\n",
              "50%     2667.000000  ...                  0.000000\n",
              "75%     2698.000000  ...                  1.000000\n",
              "max    40000.000000  ...                  1.000000\n",
              "\n",
              "[8 rows x 6 columns]"
            ]
          },
          "metadata": {
            "tags": []
          },
          "execution_count": 5
        }
      ]
    },
    {
      "cell_type": "code",
      "metadata": {
        "id": "EI60aWG7AKna",
        "colab_type": "code",
        "colab": {
          "base_uri": "https://localhost:8080/",
          "height": 419
        },
        "outputId": "7a677ff4-2ea9-44e0-92db-7583e3db4f23"
      },
      "source": [
        "selectlist =[ 'id', 'NOTE' , 'Alcohol Use', 'Current Drug Use', 'Current Smoker']\n",
        "selectlist =[x for x in df.columns if x in selectlist]\n",
        "df = df[selectlist]\n",
        "df"
      ],
      "execution_count": 6,
      "outputs": [
        {
          "output_type": "execute_result",
          "data": {
            "text/html": [
              "<div>\n",
              "<style scoped>\n",
              "    .dataframe tbody tr th:only-of-type {\n",
              "        vertical-align: middle;\n",
              "    }\n",
              "\n",
              "    .dataframe tbody tr th {\n",
              "        vertical-align: top;\n",
              "    }\n",
              "\n",
              "    .dataframe thead th {\n",
              "        text-align: right;\n",
              "    }\n",
              "</style>\n",
              "<table border=\"1\" class=\"dataframe\">\n",
              "  <thead>\n",
              "    <tr style=\"text-align: right;\">\n",
              "      <th></th>\n",
              "      <th>id</th>\n",
              "      <th>NOTE</th>\n",
              "      <th>Alcohol Use</th>\n",
              "      <th>Current Drug Use</th>\n",
              "      <th>Current Smoker</th>\n",
              "    </tr>\n",
              "  </thead>\n",
              "  <tbody>\n",
              "    <tr>\n",
              "      <th>0</th>\n",
              "      <td>2642</td>\n",
              "      <td>ogress Note Subjective: Patient ID: xxx V xxx ...</td>\n",
              "      <td>N</td>\n",
              "      <td>Y</td>\n",
              "      <td>Y</td>\n",
              "    </tr>\n",
              "    <tr>\n",
              "      <th>1</th>\n",
              "      <td>2642</td>\n",
              "      <td>ogress Note Subjective: Patient ID: xxx V xxx ...</td>\n",
              "      <td>N</td>\n",
              "      <td>Y</td>\n",
              "      <td>Y</td>\n",
              "    </tr>\n",
              "    <tr>\n",
              "      <th>2</th>\n",
              "      <td>2642</td>\n",
              "      <td>Pt presents c/o atraumatic right arm pain x 1 ...</td>\n",
              "      <td>NaN</td>\n",
              "      <td>NaN</td>\n",
              "      <td>NaN</td>\n",
              "    </tr>\n",
              "    <tr>\n",
              "      <th>3</th>\n",
              "      <td>2642</td>\n",
              "      <td>History Chief Complaint Patient presents with ...</td>\n",
              "      <td>N</td>\n",
              "      <td>Y</td>\n",
              "      <td>Y</td>\n",
              "    </tr>\n",
              "    <tr>\n",
              "      <th>4</th>\n",
              "      <td>2642</td>\n",
              "      <td>ogress Note Subjective: Patient ID: xxx V xxx ...</td>\n",
              "      <td>N</td>\n",
              "      <td>Y</td>\n",
              "      <td>Y</td>\n",
              "    </tr>\n",
              "    <tr>\n",
              "      <th>...</th>\n",
              "      <td>...</td>\n",
              "      <td>...</td>\n",
              "      <td>...</td>\n",
              "      <td>...</td>\n",
              "      <td>...</td>\n",
              "    </tr>\n",
              "    <tr>\n",
              "      <th>1819</th>\n",
              "      <td>40000</td>\n",
              "      <td>Progress Note Subjective: Patient ID: xxx L xx...</td>\n",
              "      <td>NaN</td>\n",
              "      <td>NaN</td>\n",
              "      <td>NaN</td>\n",
              "    </tr>\n",
              "    <tr>\n",
              "      <th>1820</th>\n",
              "      <td>40000</td>\n",
              "      <td>ED Attending Attestation I have personally see...</td>\n",
              "      <td>NaN</td>\n",
              "      <td>NaN</td>\n",
              "      <td>NaN</td>\n",
              "    </tr>\n",
              "    <tr>\n",
              "      <th>1821</th>\n",
              "      <td>40000</td>\n",
              "      <td>Pt had returned from XR Pt placed in hallway P...</td>\n",
              "      <td>NaN</td>\n",
              "      <td>NaN</td>\n",
              "      <td>NaN</td>\n",
              "    </tr>\n",
              "    <tr>\n",
              "      <th>1822</th>\n",
              "      <td>40000</td>\n",
              "      <td>History Chief Complaint Patient presents with ...</td>\n",
              "      <td>NaN</td>\n",
              "      <td>NaN</td>\n",
              "      <td>NaN</td>\n",
              "    </tr>\n",
              "    <tr>\n",
              "      <th>1823</th>\n",
              "      <td>40000</td>\n",
              "      <td>Chief Complaint xxx, xxx is a 56 y.o. female w...</td>\n",
              "      <td>NaN</td>\n",
              "      <td>NaN</td>\n",
              "      <td>NaN</td>\n",
              "    </tr>\n",
              "  </tbody>\n",
              "</table>\n",
              "<p>1824 rows × 5 columns</p>\n",
              "</div>"
            ],
            "text/plain": [
              "         id  ... Current Smoker\n",
              "0      2642  ...              Y\n",
              "1      2642  ...              Y\n",
              "2      2642  ...            NaN\n",
              "3      2642  ...              Y\n",
              "4      2642  ...              Y\n",
              "...     ...  ...            ...\n",
              "1819  40000  ...            NaN\n",
              "1820  40000  ...            NaN\n",
              "1821  40000  ...            NaN\n",
              "1822  40000  ...            NaN\n",
              "1823  40000  ...            NaN\n",
              "\n",
              "[1824 rows x 5 columns]"
            ]
          },
          "metadata": {
            "tags": []
          },
          "execution_count": 6
        }
      ]
    },
    {
      "cell_type": "code",
      "metadata": {
        "id": "AgY6gLZDAPq-",
        "colab_type": "code",
        "colab": {}
      },
      "source": [
        "nlp = en_core_sci_sm.load()"
      ],
      "execution_count": 0,
      "outputs": []
    },
    {
      "cell_type": "code",
      "metadata": {
        "id": "XDgErlCmAR9g",
        "colab_type": "code",
        "colab": {}
      },
      "source": [
        "notes = df['NOTE'].tolist()\n",
        "\n",
        "X_ner = []\n",
        "for i in range(len(df)):\n",
        "    text = notes[i]\n",
        "    doc = nlp(text)\n",
        "    #print(doc.ents)\n",
        "\n",
        "    a = [i.text for i in doc.ents]\n",
        "    a = ''.join(a)\n",
        "    X_ner.append(a)"
      ],
      "execution_count": 0,
      "outputs": []
    },
    {
      "cell_type": "code",
      "metadata": {
        "id": "XKw9o2ZdBsdJ",
        "colab_type": "code",
        "colab": {}
      },
      "source": [
        "notes_len =[]\n",
        "for i in range(len(X_ner)):\n",
        "    notes_len.append(len(X_ner[i]))"
      ],
      "execution_count": 0,
      "outputs": []
    },
    {
      "cell_type": "code",
      "metadata": {
        "id": "_IGoQRXgBvFt",
        "colab_type": "code",
        "colab": {}
      },
      "source": [
        "df['Note Length'] = notes_len"
      ],
      "execution_count": 0,
      "outputs": []
    },
    {
      "cell_type": "code",
      "metadata": {
        "id": "jWB6TCM1BxFF",
        "colab_type": "code",
        "colab": {
          "base_uri": "https://localhost:8080/",
          "height": 542
        },
        "outputId": "8b06a604-a809-4311-8d8a-df16df7dcad5"
      },
      "source": [
        "plt2 = go.Histogram(x = notes_len)\n",
        "lyt2 = go.Layout(title=\"Frequency of Notes Length\", xaxis=dict(title='Notes Length', range=[0,10000]), yaxis=dict(title='Frequency'))\n",
        "fig2 = go.Figure(data=[plt2], layout=lyt2)\n",
        "fig2.show()"
      ],
      "execution_count": 21,
      "outputs": [
        {
          "output_type": "display_data",
          "data": {
            "text/html": [
              "<html>\n",
              "<head><meta charset=\"utf-8\" /></head>\n",
              "<body>\n",
              "    <div>\n",
              "            <script src=\"https://cdnjs.cloudflare.com/ajax/libs/mathjax/2.7.5/MathJax.js?config=TeX-AMS-MML_SVG\"></script><script type=\"text/javascript\">if (window.MathJax) {MathJax.Hub.Config({SVG: {font: \"STIX-Web\"}});}</script>\n",
              "                <script type=\"text/javascript\">window.PlotlyConfig = {MathJaxConfig: 'local'};</script>\n",
              "        <script src=\"https://cdn.plot.ly/plotly-latest.min.js\"></script>    \n",
              "            <div id=\"365740e0-0118-4e94-88d2-03faebb2eb6e\" class=\"plotly-graph-div\" style=\"height:525px; width:100%;\"></div>\n",
              "            <script type=\"text/javascript\">\n",
              "                \n",
              "                    window.PLOTLYENV=window.PLOTLYENV || {};\n",
              "                    \n",
              "                if (document.getElementById(\"365740e0-0118-4e94-88d2-03faebb2eb6e\")) {\n",
              "                    Plotly.newPlot(\n",
              "                        '365740e0-0118-4e94-88d2-03faebb2eb6e',\n",
              "                        [{\"type\": \"histogram\", \"x\": [3355, 2566, 25, 1499, 3435, 71, 88, 2, 1052, 2197, 2384, 5383, 808, 731, 4673, 4387, 802, 214, 27, 1366, 117, 288, 2178, 2400, 91, 1697, 207, 56, 2724, 57, 2731, 1176, 77, 765, 1722, 4819, 42, 1757, 110, 110, 1783, 84, 123, 3165, 3070, 2312, 215, 1790, 60, 143, 1714, 2920, 39, 1965, 4533, 46, 305, 1495, 4116, 427, 1346, 97, 97, 168, 2673, 368, 1266, 1455, 502, 404, 62, 573, 1655, 73, 531, 1941, 1758, 1795, 119, 2044, 2268, 281, 12, 373, 2293, 500, 1345, 3252, 365, 3465, 520, 353, 4541, 4450, 316, 8, 2003, 226, 47, 2103, 2779, 671, 3714, 3584, 2935, 638, 1160, 113, 684, 747, 1946, 3909, 2532, 1771, 1713, 31, 3173, 441, 253, 12211, 2070, 7439, 124, 37, 719, 10, 592, 1813, 205, 214, 1073, 440, 553, 3015, 819, 2411, 250, 1111, 2072, 303, 103, 2581, 1139, 99, 1654, 340, 1052, 283, 1676, 3924, 1717, 6614, 23, 230, 2683, 489, 15, 2083, 363, 1342, 1091, 2249, 603, 1979, 12, 1675, 740, 5142, 49, 1372, 2347, 4144, 52, 95, 1933, 427, 1224, 684, 2453, 2367, 2340, 33, 1730, 2090, 1262, 2660, 55, 2170, 2264, 4159, 1018, 2922, 4728, 1584, 43, 2046, 2379, 2506, 2600, 25, 1834, 219, 616, 928, 1044, 2448, 28, 2309, 863, 1623, 1442, 2137, 855, 1763, 1942, 2179, 1748, 1978, 375, 582, 33, 3339, 3411, 3050, 1140, 1943, 1716, 2044, 3008, 16, 2491, 1233, 295, 2211, 348, 3179, 3223, 2018, 4397, 762, 112, 809, 25, 2330, 446, 553, 718, 241, 2651, 923, 3901, 1744, 2860, 2842, 3318, 2516, 2029, 1796, 1806, 39, 310, 447, 37, 179, 2117, 2787, 3582, 70, 3922, 4070, 1031, 2714, 2949, 3045, 1290, 2877, 3164, 1726, 88, 110, 2895, 219, 3028, 6299, 1585, 2241, 1734, 79, 2504, 232, 4913, 184, 300, 3855, 895, 4441, 675, 136, 1449, 142, 2118, 1128, 2325, 3275, 1867, 2884, 12, 2469, 1283, 1589, 1268, 38, 3063, 3990, 277, 34, 171, 272, 2777, 83, 2938, 53, 2265, 219, 189, 2576, 330, 2823, 1897, 53, 1187, 8, 140, 2623, 113, 2817, 2675, 2479, 2399, 3076, 565, 3236, 3277, 1878, 3608, 2934, 1486, 45, 99, 208, 51, 3000, 3321, 37, 3110, 2654, 3159, 563, 1457, 1400, 3490, 3634, 3480, 2936, 1196, 2551, 2727, 45, 2938, 7121, 5667, 3347, 7032, 1022, 6958, 729, 123, 2372, 59, 3215, 123, 653, 68, 2393, 4700, 68, 544, 1259, 145, 394, 2590, 478, 29, 66, 1423, 2463, 566, 54, 533, 2525, 696, 200, 2375, 2109, 329, 100, 92, 232, 4369, 5414, 240, 2705, 1738, 1740, 76, 2522, 971, 402, 3641, 32, 2973, 3189, 3935, 1725, 1220, 1278, 1322, 4109, 3438, 5543, 3420, 74, 111, 2437, 365, 769, 0, 279, 2461, 2326, 267, 542, 60, 10193, 389, 1830, 1283, 346, 2754, 210, 1055, 5708, 97, 147, 3190, 4206, 214, 15, 1993, 1262, 1205, 1330, 418, 267, 1324, 145, 1178, 289, 268, 1169, 259, 1240, 3296, 244, 611, 4154, 23, 3370, 32, 1395, 4137, 3573, 3254, 3186, 1487, 902, 1121, 1348, 4823, 97, 97, 1382, 1271, 37, 4178, 215, 1202, 25, 263, 3158, 1723, 83, 1282, 1584, 1470, 1159, 13, 2313, 1292, 1537, 1093, 135, 1386, 2868, 216, 1558, 3329, 2644, 986, 1601, 4190, 70, 44, 1731, 5229, 100, 252, 0, 232, 38, 240, 2788, 113, 297, 2653, 3628, 1149, 3525, 49, 3598, 6533, 3715, 3543, 2600, 4421, 5330, 4007, 611, 3177, 2334, 213, 1160, 3267, 3508, 2789, 39, 470, 215, 1018, 2136, 32, 218, 991, 4892, 11, 4278, 46, 3918, 218, 214, 2153, 4252, 52, 2062, 1746, 4354, 802, 544, 54, 4601, 54, 374, 500, 2005, 218, 1155, 37, 439, 4130, 27, 1723, 2155, 3798, 31, 2098, 339, 1885, 2790, 1018, 3567, 3662, 4381, 288, 3542, 2254, 3575, 2609, 1560, 1628, 940, 849, 3229, 3650, 1623, 137, 884, 2891, 1637, 3398, 8, 2581, 396, 3793, 130, 34, 1785, 1902, 2252, 1504, 2234, 1408, 3986, 1834, 854, 1880, 1822, 3104, 240, 114, 4477, 1583, 315, 138, 2122, 3906, 3613, 1271, 1013, 1595, 119, 5474, 2647, 3518, 2305, 6183, 1649, 10608, 1701, 1299, 1070, 1176, 3409, 3330, 3921, 5815, 1154, 5355, 4838, 2942, 4245, 3903, 4254, 2454, 3137, 100, 3641, 2471, 36, 2474, 3438, 3703, 1625, 2731, 3203, 2493, 18, 2493, 5148, 4990, 3254, 5065, 1090, 1071, 1358, 3566, 2143, 1168, 2841, 4582, 975, 411, 673, 4968, 5630, 1814, 1996, 1152, 1086, 1864, 2149, 1983, 160, 1492, 1007, 3132, 3656, 1218, 1068, 3033, 3735, 4072, 28, 2258, 3601, 1311, 2619, 5561, 4399, 755, 952, 1317, 2926, 835, 1386, 467, 1668, 3218, 3547, 795, 3355, 3425, 634, 4938, 941, 5425, 20, 2920, 3270, 2849, 4476, 330, 923, 827, 3132, 2064, 3609, 3877, 792, 118, 4443, 49, 2250, 1045, 1023, 3353, 2042, 15, 358, 2235, 218, 2106, 3485, 885, 624, 1030, 32, 2787, 32, 1011, 1690, 1694, 5139, 2879, 4314, 440, 539, 2180, 6039, 5505, 5726, 502, 1240, 3402, 4141, 38, 58, 2116, 1975, 456, 35, 1244, 904, 1980, 1463, 1418, 2838, 1350, 1590, 3372, 969, 2006, 4134, 99, 2050, 2153, 3632, 1612, 1905, 2593, 1704, 1482, 2108, 1471, 951, 2928, 1946, 2087, 2617, 965, 1307, 1710, 2157, 1166, 4, 399, 141, 2560, 1323, 941, 1630, 10, 743, 784, 455, 1649, 801, 121, 1585, 5204, 43, 1374, 493, 30, 594, 3716, 44, 1728, 2358, 364, 4145, 1168, 1245, 9703, 917, 1687, 3680, 43, 1945, 1651, 2366, 1805, 27, 3461, 965, 3255, 1319, 3404, 656, 5135, 6118, 11, 3331, 44, 1567, 2800, 1501, 1251, 863, 2241, 2251, 1597, 1511, 1508, 230, 1950, 1952, 2437, 1285, 1733, 1566, 20, 3781, 1651, 1595, 971, 3058, 2692, 3844, 26, 131, 1634, 1549, 447, 3938, 3847, 1575, 2864, 1793, 30, 1696, 4571, 26, 2838, 3279, 527, 1054, 1257, 1558, 499, 1349, 3043, 318, 1646, 3670, 1574, 2231, 8, 3776, 1163, 1651, 318, 2233, 1702, 141, 2366, 1436, 265, 404, 3701, 883, 670, 4672, 982, 903, 2940, 2922, 1059, 869, 32, 2611, 1024, 858, 1219, 738, 49, 218, 1969, 924, 5509, 735, 1193, 885, 889, 2785, 3624, 4541, 1603, 1145, 2866, 1579, 1154, 864, 1436, 72, 1043, 1382, 2231, 999, 1600, 1711, 1083, 4135, 1026, 1165, 2297, 554, 2761, 29, 1401, 917, 1195, 3041, 1072, 1568, 3587, 97, 1975, 773, 330, 747, 2217, 3140, 766, 1176, 660, 2684, 782, 3658, 1388, 32, 1652, 39, 35, 4221, 2782, 1878, 97, 653, 1974, 3040, 1723, 2544, 3283, 2160, 429, 1751, 514, 1885, 619, 1850, 4635, 2733, 2146, 891, 2281, 1730, 1427, 3693, 7789, 1081, 1495, 5145, 4497, 816, 917, 1241, 3994, 482, 3065, 1476, 1303, 6953, 3963, 7814, 1954, 991, 1246, 4167, 998, 1502, 425, 186, 1896, 2510, 5030, 1913, 6, 3513, 2811, 2605, 933, 116, 2545, 0, 2574, 802, 54, 302, 2510, 4167, 2444, 2263, 3543, 3559, 4303, 51, 3585, 1021, 1020, 1236, 432, 51, 27, 2838, 830, 160, 3113, 388, 2493, 1962, 3180, 803, 1552, 3856, 377, 3937, 4949, 1577, 117, 3808, 249, 4078, 138, 95, 1617, 2731, 2925, 1360, 2853, 2804, 1487, 902, 1121, 1348, 4823, 97, 97, 1382, 1271, 37, 4178, 215, 1202, 25, 263, 3158, 1723, 83, 1282, 1584, 1470, 1159, 13, 2313, 1292, 1537, 1093, 135, 1386, 2868, 216, 1555, 2791, 2079, 37, 207, 2008, 37, 2598, 1757, 1954, 2183, 2581, 50, 876, 1191, 2106, 327, 3431, 503, 0, 1814, 211, 918, 1973, 1816, 5438, 993, 1286, 5535, 4106, 3347, 31, 2028, 1268, 1757, 1709, 1920, 56, 216, 2365, 2222, 2894, 64, 2330, 972, 141, 3301, 32, 382, 2697, 208, 2836, 17, 249, 1268, 1452, 215, 78, 536, 1774, 365, 2830, 2485, 2859, 3896, 344, 1097, 1272, 847, 352, 56, 2424, 3158, 211, 214, 1366, 1119, 1534, 1620, 1270, 762, 3622, 767, 827, 3620, 2885, 2447, 1576, 1804, 2548, 1287, 1588, 538, 347, 1259, 203, 20, 1785, 815, 2037, 3665, 80, 8, 969, 699, 2471, 99, 32, 965, 4175, 2309, 1832, 32, 20, 1728, 1669, 3533, 612, 2153, 1229, 32, 5560, 1087, 1442, 916, 1054, 1375, 3208, 3247, 481, 7, 421, 13, 454, 1931, 3104, 369, 52, 148, 3535, 47, 219, 22, 2349, 431, 1843, 3042, 1485, 2833, 100, 662, 3485, 915, 52, 355, 2711, 57, 2797, 495, 3386, 20, 370, 302, 218, 71, 226, 2444, 92, 2762, 226, 39, 1602, 2109, 24, 1175, 37, 1456, 2807, 539, 791, 4094, 2279, 3922, 1956, 2553, 2307, 30, 1883, 1239, 1232, 4370, 8, 1281, 308, 26, 1568, 2517, 159, 226, 211, 20, 4967, 45, 1990, 2094, 3964, 4912, 4306, 4193, 2238, 14, 2266, 103, 43, 2490, 300, 3365, 4261, 6, 3508, 41, 942, 353, 3003, 7, 2103, 226, 2969, 101, 225, 36, 406, 3249, 49, 2335, 3082, 497, 4482, 35, 1681, 42, 1729, 477, 2013, 3459, 3882, 17, 3751, 215, 2360, 2039, 3721, 3129, 1237, 4089, 2884, 86, 2865, 3415, 55, 2516, 7155, 257, 4205, 12, 308, 4021, 2995, 1080, 5497, 219, 2070, 2630, 3092, 29, 88, 308, 39, 187, 3341, 95, 2746, 1601, 215, 2664, 42, 1537, 5426, 2297, 494, 651, 3291, 3810, 3423, 67, 2696, 2120, 53, 2555, 47, 1615, 3497, 600, 49, 342, 21, 1540, 36, 205, 219, 3821, 88, 2990, 215, 1323, 37, 1749, 443, 3363, 1331, 29, 2247, 7, 5709, 138, 210, 226, 41, 1101, 272, 1831, 105, 7, 1658, 18, 194, 2840, 414, 34, 2135, 4395, 1992, 3279, 480, 171, 120, 136, 364, 3298, 106, 2286, 142, 146, 1939, 65, 615, 702, 2312, 3246, 156, 425, 2491, 2094, 87, 1705, 226, 43, 3433, 918, 406, 3607, 70, 260, 2936, 2669, 36, 325, 1915, 2993, 175, 2116, 69, 314, 4196, 3651, 286, 3567, 60, 2145, 4545, 50, 589, 2323, 18, 93, 1243, 225, 2131, 267, 3990, 27, 3045, 2132, 610, 62, 3714, 10, 2387, 348, 25, 266, 2351, 226, 49, 1950, 2809, 92, 218, 4695, 70, 214, 1754, 2810, 2136, 3134, 848, 1184, 1715, 22, 2344, 42, 919, 3380, 942, 215, 383, 226, 187, 1888, 2220, 68, 43, 1912, 387, 3779, 17, 2197, 2511, 2271, 406, 2974, 3427, 6, 2689, 226, 41, 1383, 532, 3349, 3198, 11, 209, 2534, 1017, 218, 29, 2441, 226, 42, 1322, 1522, 519, 152, 44, 3853, 20, 118, 123, 57, 53, 4825, 473, 1771, 2909, 4283, 1935, 2788, 3741, 4397, 3305, 2887, 10078, 35, 2585, 135, 4028, 113, 1618, 1790, 97, 7, 3395, 2056, 639, 3135, 1813, 46, 115, 120, 4753, 219, 1526, 2032, 1778, 1071, 1411, 3007, 4865, 53, 239, 2106, 2710, 218, 1005, 1642, 1749, 1271, 1850, 2698, 2762, 638, 730, 3767, 4303, 41, 2120, 98, 1250, 2031, 1789, 1645, 3414, 57, 2330, 3756, 3065, 1390, 216, 54, 4728, 10210, 178, 2088, 3105, 246, 634, 1649, 1760, 3763, 3080, 837, 2633, 3422, 139, 2817, 3180, 1749, 710, 1854, 4889, 318, 3328, 2127, 2584, 2613, 866, 2066, 3277, 3105, 1018, 4592, 1348, 3014, 3376, 33, 2199, 1615, 139, 34, 3031, 12, 679, 24, 1031, 1554, 5134, 2298, 1833, 3663, 2351, 4791, 5130, 6508, 8190, 1070, 2189, 512, 7444, 23, 384, 2297, 1832, 3090, 3402, 2303, 6592, 3356, 2138, 2548, 3850, 3483, 197, 2143, 1846, 41, 156, 2165, 618, 5537, 2999, 2528, 138, 2196, 532, 2267, 968, 2925, 756, 4479, 2099, 1835, 1866, 4892, 2624, 1857, 2191, 1321, 2712, 542, 472, 2171, 3790, 3158, 1851, 1242, 2487, 2977, 1604, 2127, 219, 42, 2654, 4532]}],\n",
              "                        {\"template\": {\"data\": {\"bar\": [{\"error_x\": {\"color\": \"#2a3f5f\"}, \"error_y\": {\"color\": \"#2a3f5f\"}, \"marker\": {\"line\": {\"color\": \"#E5ECF6\", \"width\": 0.5}}, \"type\": \"bar\"}], \"barpolar\": [{\"marker\": {\"line\": {\"color\": \"#E5ECF6\", \"width\": 0.5}}, \"type\": \"barpolar\"}], \"carpet\": [{\"aaxis\": {\"endlinecolor\": \"#2a3f5f\", \"gridcolor\": \"white\", \"linecolor\": \"white\", \"minorgridcolor\": \"white\", \"startlinecolor\": \"#2a3f5f\"}, \"baxis\": {\"endlinecolor\": \"#2a3f5f\", \"gridcolor\": \"white\", \"linecolor\": \"white\", \"minorgridcolor\": \"white\", \"startlinecolor\": \"#2a3f5f\"}, \"type\": \"carpet\"}], \"choropleth\": [{\"colorbar\": {\"outlinewidth\": 0, \"ticks\": \"\"}, \"type\": \"choropleth\"}], \"contour\": [{\"colorbar\": {\"outlinewidth\": 0, \"ticks\": \"\"}, \"colorscale\": [[0.0, \"#0d0887\"], [0.1111111111111111, \"#46039f\"], [0.2222222222222222, \"#7201a8\"], [0.3333333333333333, \"#9c179e\"], [0.4444444444444444, \"#bd3786\"], [0.5555555555555556, \"#d8576b\"], [0.6666666666666666, \"#ed7953\"], [0.7777777777777778, \"#fb9f3a\"], [0.8888888888888888, \"#fdca26\"], [1.0, \"#f0f921\"]], \"type\": \"contour\"}], \"contourcarpet\": [{\"colorbar\": {\"outlinewidth\": 0, \"ticks\": \"\"}, \"type\": \"contourcarpet\"}], \"heatmap\": [{\"colorbar\": {\"outlinewidth\": 0, \"ticks\": \"\"}, \"colorscale\": [[0.0, \"#0d0887\"], [0.1111111111111111, \"#46039f\"], [0.2222222222222222, \"#7201a8\"], [0.3333333333333333, \"#9c179e\"], [0.4444444444444444, \"#bd3786\"], [0.5555555555555556, \"#d8576b\"], [0.6666666666666666, \"#ed7953\"], [0.7777777777777778, \"#fb9f3a\"], [0.8888888888888888, \"#fdca26\"], [1.0, \"#f0f921\"]], \"type\": \"heatmap\"}], \"heatmapgl\": [{\"colorbar\": {\"outlinewidth\": 0, \"ticks\": \"\"}, \"colorscale\": [[0.0, \"#0d0887\"], [0.1111111111111111, \"#46039f\"], [0.2222222222222222, \"#7201a8\"], [0.3333333333333333, \"#9c179e\"], [0.4444444444444444, \"#bd3786\"], [0.5555555555555556, \"#d8576b\"], [0.6666666666666666, \"#ed7953\"], [0.7777777777777778, \"#fb9f3a\"], [0.8888888888888888, \"#fdca26\"], [1.0, \"#f0f921\"]], \"type\": \"heatmapgl\"}], \"histogram\": [{\"marker\": {\"colorbar\": {\"outlinewidth\": 0, \"ticks\": \"\"}}, \"type\": \"histogram\"}], \"histogram2d\": [{\"colorbar\": {\"outlinewidth\": 0, \"ticks\": \"\"}, \"colorscale\": [[0.0, \"#0d0887\"], [0.1111111111111111, \"#46039f\"], [0.2222222222222222, \"#7201a8\"], [0.3333333333333333, \"#9c179e\"], [0.4444444444444444, \"#bd3786\"], [0.5555555555555556, \"#d8576b\"], [0.6666666666666666, \"#ed7953\"], [0.7777777777777778, \"#fb9f3a\"], [0.8888888888888888, \"#fdca26\"], [1.0, \"#f0f921\"]], \"type\": \"histogram2d\"}], \"histogram2dcontour\": [{\"colorbar\": {\"outlinewidth\": 0, \"ticks\": \"\"}, \"colorscale\": [[0.0, \"#0d0887\"], [0.1111111111111111, \"#46039f\"], [0.2222222222222222, \"#7201a8\"], [0.3333333333333333, \"#9c179e\"], [0.4444444444444444, \"#bd3786\"], [0.5555555555555556, \"#d8576b\"], [0.6666666666666666, \"#ed7953\"], [0.7777777777777778, \"#fb9f3a\"], [0.8888888888888888, \"#fdca26\"], [1.0, \"#f0f921\"]], \"type\": \"histogram2dcontour\"}], \"mesh3d\": [{\"colorbar\": {\"outlinewidth\": 0, \"ticks\": \"\"}, \"type\": \"mesh3d\"}], \"parcoords\": [{\"line\": {\"colorbar\": {\"outlinewidth\": 0, \"ticks\": \"\"}}, \"type\": \"parcoords\"}], \"pie\": [{\"automargin\": true, \"type\": \"pie\"}], \"scatter\": [{\"marker\": {\"colorbar\": {\"outlinewidth\": 0, \"ticks\": \"\"}}, \"type\": \"scatter\"}], \"scatter3d\": [{\"line\": {\"colorbar\": {\"outlinewidth\": 0, \"ticks\": \"\"}}, \"marker\": {\"colorbar\": {\"outlinewidth\": 0, \"ticks\": \"\"}}, \"type\": \"scatter3d\"}], \"scattercarpet\": [{\"marker\": {\"colorbar\": {\"outlinewidth\": 0, \"ticks\": \"\"}}, \"type\": \"scattercarpet\"}], \"scattergeo\": [{\"marker\": {\"colorbar\": {\"outlinewidth\": 0, \"ticks\": \"\"}}, \"type\": \"scattergeo\"}], \"scattergl\": [{\"marker\": {\"colorbar\": {\"outlinewidth\": 0, \"ticks\": \"\"}}, \"type\": \"scattergl\"}], \"scattermapbox\": [{\"marker\": {\"colorbar\": {\"outlinewidth\": 0, \"ticks\": \"\"}}, \"type\": \"scattermapbox\"}], \"scatterpolar\": [{\"marker\": {\"colorbar\": {\"outlinewidth\": 0, \"ticks\": \"\"}}, \"type\": \"scatterpolar\"}], \"scatterpolargl\": [{\"marker\": {\"colorbar\": {\"outlinewidth\": 0, \"ticks\": \"\"}}, \"type\": \"scatterpolargl\"}], \"scatterternary\": [{\"marker\": {\"colorbar\": {\"outlinewidth\": 0, \"ticks\": \"\"}}, \"type\": \"scatterternary\"}], \"surface\": [{\"colorbar\": {\"outlinewidth\": 0, \"ticks\": \"\"}, \"colorscale\": [[0.0, \"#0d0887\"], [0.1111111111111111, \"#46039f\"], [0.2222222222222222, \"#7201a8\"], [0.3333333333333333, \"#9c179e\"], [0.4444444444444444, \"#bd3786\"], [0.5555555555555556, \"#d8576b\"], [0.6666666666666666, \"#ed7953\"], [0.7777777777777778, \"#fb9f3a\"], [0.8888888888888888, \"#fdca26\"], [1.0, \"#f0f921\"]], \"type\": \"surface\"}], \"table\": [{\"cells\": {\"fill\": {\"color\": \"#EBF0F8\"}, \"line\": {\"color\": \"white\"}}, \"header\": {\"fill\": {\"color\": \"#C8D4E3\"}, \"line\": {\"color\": \"white\"}}, \"type\": \"table\"}]}, \"layout\": {\"annotationdefaults\": {\"arrowcolor\": \"#2a3f5f\", \"arrowhead\": 0, \"arrowwidth\": 1}, \"coloraxis\": {\"colorbar\": {\"outlinewidth\": 0, \"ticks\": \"\"}}, \"colorscale\": {\"diverging\": [[0, \"#8e0152\"], [0.1, \"#c51b7d\"], [0.2, \"#de77ae\"], [0.3, \"#f1b6da\"], [0.4, \"#fde0ef\"], [0.5, \"#f7f7f7\"], [0.6, \"#e6f5d0\"], [0.7, \"#b8e186\"], [0.8, \"#7fbc41\"], [0.9, \"#4d9221\"], [1, \"#276419\"]], \"sequential\": [[0.0, \"#0d0887\"], [0.1111111111111111, \"#46039f\"], [0.2222222222222222, \"#7201a8\"], [0.3333333333333333, \"#9c179e\"], [0.4444444444444444, \"#bd3786\"], [0.5555555555555556, \"#d8576b\"], [0.6666666666666666, \"#ed7953\"], [0.7777777777777778, \"#fb9f3a\"], [0.8888888888888888, \"#fdca26\"], [1.0, \"#f0f921\"]], \"sequentialminus\": [[0.0, \"#0d0887\"], [0.1111111111111111, \"#46039f\"], [0.2222222222222222, \"#7201a8\"], [0.3333333333333333, \"#9c179e\"], [0.4444444444444444, \"#bd3786\"], [0.5555555555555556, \"#d8576b\"], [0.6666666666666666, \"#ed7953\"], [0.7777777777777778, \"#fb9f3a\"], [0.8888888888888888, \"#fdca26\"], [1.0, \"#f0f921\"]]}, \"colorway\": [\"#636efa\", \"#EF553B\", \"#00cc96\", \"#ab63fa\", \"#FFA15A\", \"#19d3f3\", \"#FF6692\", \"#B6E880\", \"#FF97FF\", \"#FECB52\"], \"font\": {\"color\": \"#2a3f5f\"}, \"geo\": {\"bgcolor\": \"white\", \"lakecolor\": \"white\", \"landcolor\": \"#E5ECF6\", \"showlakes\": true, \"showland\": true, \"subunitcolor\": \"white\"}, \"hoverlabel\": {\"align\": \"left\"}, \"hovermode\": \"closest\", \"mapbox\": {\"style\": \"light\"}, \"paper_bgcolor\": \"white\", \"plot_bgcolor\": \"#E5ECF6\", \"polar\": {\"angularaxis\": {\"gridcolor\": \"white\", \"linecolor\": \"white\", \"ticks\": \"\"}, \"bgcolor\": \"#E5ECF6\", \"radialaxis\": {\"gridcolor\": \"white\", \"linecolor\": \"white\", \"ticks\": \"\"}}, \"scene\": {\"xaxis\": {\"backgroundcolor\": \"#E5ECF6\", \"gridcolor\": \"white\", \"gridwidth\": 2, \"linecolor\": \"white\", \"showbackground\": true, \"ticks\": \"\", \"zerolinecolor\": \"white\"}, \"yaxis\": {\"backgroundcolor\": \"#E5ECF6\", \"gridcolor\": \"white\", \"gridwidth\": 2, \"linecolor\": \"white\", \"showbackground\": true, \"ticks\": \"\", \"zerolinecolor\": \"white\"}, \"zaxis\": {\"backgroundcolor\": \"#E5ECF6\", \"gridcolor\": \"white\", \"gridwidth\": 2, \"linecolor\": \"white\", \"showbackground\": true, \"ticks\": \"\", \"zerolinecolor\": \"white\"}}, \"shapedefaults\": {\"line\": {\"color\": \"#2a3f5f\"}}, \"ternary\": {\"aaxis\": {\"gridcolor\": \"white\", \"linecolor\": \"white\", \"ticks\": \"\"}, \"baxis\": {\"gridcolor\": \"white\", \"linecolor\": \"white\", \"ticks\": \"\"}, \"bgcolor\": \"#E5ECF6\", \"caxis\": {\"gridcolor\": \"white\", \"linecolor\": \"white\", \"ticks\": \"\"}}, \"title\": {\"x\": 0.05}, \"xaxis\": {\"automargin\": true, \"gridcolor\": \"white\", \"linecolor\": \"white\", \"ticks\": \"\", \"title\": {\"standoff\": 15}, \"zerolinecolor\": \"white\", \"zerolinewidth\": 2}, \"yaxis\": {\"automargin\": true, \"gridcolor\": \"white\", \"linecolor\": \"white\", \"ticks\": \"\", \"title\": {\"standoff\": 15}, \"zerolinecolor\": \"white\", \"zerolinewidth\": 2}}}, \"title\": {\"text\": \"Frequency of Notes Length\"}, \"xaxis\": {\"range\": [0, 10000], \"title\": {\"text\": \"Notes Length\"}}, \"yaxis\": {\"title\": {\"text\": \"Frequency\"}}},\n",
              "                        {\"responsive\": true}\n",
              "                    ).then(function(){\n",
              "                            \n",
              "var gd = document.getElementById('365740e0-0118-4e94-88d2-03faebb2eb6e');\n",
              "var x = new MutationObserver(function (mutations, observer) {{\n",
              "        var display = window.getComputedStyle(gd).display;\n",
              "        if (!display || display === 'none') {{\n",
              "            console.log([gd, 'removed!']);\n",
              "            Plotly.purge(gd);\n",
              "            observer.disconnect();\n",
              "        }}\n",
              "}});\n",
              "\n",
              "// Listen for the removal of the full notebook cells\n",
              "var notebookContainer = gd.closest('#notebook-container');\n",
              "if (notebookContainer) {{\n",
              "    x.observe(notebookContainer, {childList: true});\n",
              "}}\n",
              "\n",
              "// Listen for the clearing of the current output cell\n",
              "var outputEl = gd.closest('.output');\n",
              "if (outputEl) {{\n",
              "    x.observe(outputEl, {childList: true});\n",
              "}}\n",
              "\n",
              "                        })\n",
              "                };\n",
              "                \n",
              "            </script>\n",
              "        </div>\n",
              "</body>\n",
              "</html>"
            ]
          },
          "metadata": {
            "tags": []
          }
        }
      ]
    },
    {
      "cell_type": "code",
      "metadata": {
        "id": "TTrgnZWZB1Vt",
        "colab_type": "code",
        "colab": {
          "base_uri": "https://localhost:8080/",
          "height": 419
        },
        "outputId": "7304f25a-2ad1-4ce0-dce3-8b8ecd8fd563"
      },
      "source": [
        "df.drop('NOTE', axis = 1, inplace = True)\n",
        "df.insert(1, 'NOTE', X_ner)\n",
        "\n",
        "df"
      ],
      "execution_count": 22,
      "outputs": [
        {
          "output_type": "execute_result",
          "data": {
            "text/html": [
              "<div>\n",
              "<style scoped>\n",
              "    .dataframe tbody tr th:only-of-type {\n",
              "        vertical-align: middle;\n",
              "    }\n",
              "\n",
              "    .dataframe tbody tr th {\n",
              "        vertical-align: top;\n",
              "    }\n",
              "\n",
              "    .dataframe thead th {\n",
              "        text-align: right;\n",
              "    }\n",
              "</style>\n",
              "<table border=\"1\" class=\"dataframe\">\n",
              "  <thead>\n",
              "    <tr style=\"text-align: right;\">\n",
              "      <th></th>\n",
              "      <th>id</th>\n",
              "      <th>NOTE</th>\n",
              "      <th>Alcohol Use</th>\n",
              "      <th>Current Drug Use</th>\n",
              "      <th>Current Smoker</th>\n",
              "      <th>Note Length</th>\n",
              "    </tr>\n",
              "  </thead>\n",
              "  <tbody>\n",
              "    <tr>\n",
              "      <th>0</th>\n",
              "      <td>2642</td>\n",
              "      <td>ogressNote SubjectivePatient IDfemaleChief Com...</td>\n",
              "      <td>N</td>\n",
              "      <td>Y</td>\n",
              "      <td>Y</td>\n",
              "      <td>3355</td>\n",
              "    </tr>\n",
              "    <tr>\n",
              "      <th>1</th>\n",
              "      <td>2642</td>\n",
              "      <td>ogressNote SubjectivePatient IDfemaleChief Com...</td>\n",
              "      <td>N</td>\n",
              "      <td>Y</td>\n",
              "      <td>Y</td>\n",
              "      <td>2566</td>\n",
              "    </tr>\n",
              "    <tr>\n",
              "      <th>2</th>\n",
              "      <td>2642</td>\n",
              "      <td>c/o atraumaticdaymovement</td>\n",
              "      <td>NaN</td>\n",
              "      <td>NaN</td>\n",
              "      <td>NaN</td>\n",
              "      <td>25</td>\n",
              "    </tr>\n",
              "    <tr>\n",
              "      <th>3</th>\n",
              "      <td>2642</td>\n",
              "      <td>HistoryChief ComplaintPatientArm Pain rightatr...</td>\n",
              "      <td>N</td>\n",
              "      <td>Y</td>\n",
              "      <td>Y</td>\n",
              "      <td>1499</td>\n",
              "    </tr>\n",
              "    <tr>\n",
              "      <th>4</th>\n",
              "      <td>2642</td>\n",
              "      <td>ogressNote SubjectivePatient IDfemaleChief Com...</td>\n",
              "      <td>N</td>\n",
              "      <td>Y</td>\n",
              "      <td>Y</td>\n",
              "      <td>3435</td>\n",
              "    </tr>\n",
              "    <tr>\n",
              "      <th>...</th>\n",
              "      <td>...</td>\n",
              "      <td>...</td>\n",
              "      <td>...</td>\n",
              "      <td>...</td>\n",
              "      <td>...</td>\n",
              "      <td>...</td>\n",
              "    </tr>\n",
              "    <tr>\n",
              "      <th>1819</th>\n",
              "      <td>40000</td>\n",
              "      <td>Progress Note SubjectivePatient IDLfemaleh/o g...</td>\n",
              "      <td>NaN</td>\n",
              "      <td>NaN</td>\n",
              "      <td>NaN</td>\n",
              "      <td>2127</td>\n",
              "    </tr>\n",
              "    <tr>\n",
              "      <th>1820</th>\n",
              "      <td>40000</td>\n",
              "      <td>EDAttendingAttestation IpersonallypatientIcare...</td>\n",
              "      <td>NaN</td>\n",
              "      <td>NaN</td>\n",
              "      <td>NaN</td>\n",
              "      <td>219</td>\n",
              "    </tr>\n",
              "    <tr>\n",
              "      <th>1821</th>\n",
              "      <td>40000</td>\n",
              "      <td>PtXRhallwayhallacityPtAMAIVnorthernbedside</td>\n",
              "      <td>NaN</td>\n",
              "      <td>NaN</td>\n",
              "      <td>NaN</td>\n",
              "      <td>42</td>\n",
              "    </tr>\n",
              "    <tr>\n",
              "      <th>1822</th>\n",
              "      <td>40000</td>\n",
              "      <td>HistoryChief ComplaintPatientChest Pain hxPEwe...</td>\n",
              "      <td>NaN</td>\n",
              "      <td>NaN</td>\n",
              "      <td>NaN</td>\n",
              "      <td>2654</td>\n",
              "    </tr>\n",
              "    <tr>\n",
              "      <th>1823</th>\n",
              "      <td>40000</td>\n",
              "      <td>Chief Complaintfemaletodayurgent caresick visi...</td>\n",
              "      <td>NaN</td>\n",
              "      <td>NaN</td>\n",
              "      <td>NaN</td>\n",
              "      <td>4532</td>\n",
              "    </tr>\n",
              "  </tbody>\n",
              "</table>\n",
              "<p>1824 rows × 6 columns</p>\n",
              "</div>"
            ],
            "text/plain": [
              "         id  ... Note Length\n",
              "0      2642  ...        3355\n",
              "1      2642  ...        2566\n",
              "2      2642  ...          25\n",
              "3      2642  ...        1499\n",
              "4      2642  ...        3435\n",
              "...     ...  ...         ...\n",
              "1819  40000  ...        2127\n",
              "1820  40000  ...         219\n",
              "1821  40000  ...          42\n",
              "1822  40000  ...        2654\n",
              "1823  40000  ...        4532\n",
              "\n",
              "[1824 rows x 6 columns]"
            ]
          },
          "metadata": {
            "tags": []
          },
          "execution_count": 22
        }
      ]
    },
    {
      "cell_type": "markdown",
      "metadata": {
        "id": "iDXTlYSKCNur",
        "colab_type": "text"
      },
      "source": [
        "# **Models**"
      ]
    },
    {
      "cell_type": "code",
      "metadata": {
        "id": "ss_2jHeaCJMd",
        "colab_type": "code",
        "colab": {}
      },
      "source": [
        "# Linear svc, knn, naive bayes\n",
        "def linsvc(x,y):\n",
        "    x_train, x_test, y_train, y_test = train_test_split(x, y, test_size=0.25, random_state = 11)\n",
        "    classf = LinearSVC()\n",
        "    classf.fit(x_train, y_train)\n",
        "    pred = classf.predict(x_test)\n",
        "    print(\"### Linear SVC: ###\")\n",
        "    consolidatedMeasure = precision_recall_fscore_support(y_test.to_numpy().astype(int), pred.astype(int), average = 'binary')\n",
        "    recallMeasure = round(consolidatedMeasure[0]*100,2)\n",
        "    precisionMeasure =  round(consolidatedMeasure[1]*100,2)\n",
        "    F1score = round(consolidatedMeasure[2]*100,2)\n",
        "    print(\"Accuracy:\",round(accuracy_score(y_test, pred)*100,2),'%')\n",
        "    print(\"F1 score:\",F1score,'%')\n",
        "    print(\"Precision:\",precisionMeasure,'%')\n",
        "    print(\"Recall:\", recallMeasure,'%','\\n')\n",
        "    return(y_test, pred)\n",
        "\n",
        "def revknn(x,y):\n",
        "    x_train, x_test, y_train, y_test = train_test_split(x, y, test_size=0.25, random_state = 11)\n",
        "    classf = KNeighborsClassifier(n_neighbors=2)\n",
        "    classf.fit(x_train, y_train)\n",
        "    pred = classf.predict(x_test)\n",
        "    print(\"### kNN: ###\")\n",
        "    consolidatedMeasure = precision_recall_fscore_support(y_test.to_numpy().astype(int), pred.astype(int), average = 'binary')\n",
        "    recallMeasure = round(consolidatedMeasure[0]*100,2)\n",
        "    precisionMeasure =  round(consolidatedMeasure[1]*100,2)\n",
        "    F1score = round(consolidatedMeasure[2]*100,2)\n",
        "    print(\"Accuracy:\",round(accuracy_score(y_test, pred)*100,2),'%')\n",
        "    print(\"F1 score:\",F1score,'%')\n",
        "    print(\"Precision:\",precisionMeasure,'%')\n",
        "    print(\"Recall:\", recallMeasure,'%','\\n')\n",
        "    return(y_test, pred)\n",
        "\n",
        "def revnb(x,y):\n",
        "    x_train, x_test, y_train, y_test = train_test_split(x, y, test_size=0.25, random_state = 11)\n",
        "    classf = MultinomialNB()\n",
        "    classf.fit(x_train, y_train)\n",
        "    pred = classf.predict(x_test)\n",
        "    print(\"### Naive Bayes: ###\")\n",
        "    consolidatedMeasure = precision_recall_fscore_support(y_test.to_numpy().astype(int), pred.astype(int), average = 'binary')\n",
        "    recallMeasure = round(consolidatedMeasure[0]*100,2)\n",
        "    precisionMeasure =  round(consolidatedMeasure[1]*100,2)\n",
        "    F1score = round(consolidatedMeasure[2]*100,2)\n",
        "    print(\"Accuracy:\",round(accuracy_score(y_test, pred)*100,2),'%')\n",
        "    print(\"F1 score:\",F1score,'%')\n",
        "    print(\"Precision:\",precisionMeasure,'%')\n",
        "    print(\"Recall:\", recallMeasure,'%','\\n')\n",
        "    return(y_test, pred)"
      ],
      "execution_count": 0,
      "outputs": []
    },
    {
      "cell_type": "markdown",
      "metadata": {
        "id": "rRLXHTY2CpuX",
        "colab_type": "text"
      },
      "source": [
        "# **Confusion matrix**"
      ]
    },
    {
      "cell_type": "code",
      "metadata": {
        "id": "wPhL1wcTCjp3",
        "colab_type": "code",
        "colab": {}
      },
      "source": [
        "def plot_confusion_matrix(cm, classes,\n",
        "                          normalize=False,\n",
        "                          title='Confusion matrix',\n",
        "                          cmap=plt.cm.Blues):\n",
        "    \"\"\"\n",
        "    Normalization can be applied by setting `normalize=True`.\n",
        "    \"\"\"\n",
        "    plt.imshow(cm, interpolation='nearest', cmap=cmap)\n",
        "    plt.title(title)\n",
        "    plt.colorbar()\n",
        "    tick_marks = np.arange(len(classes))\n",
        "    plt.xticks(tick_marks, classes, rotation=45)\n",
        "    plt.yticks(tick_marks, classes)\n",
        "\n",
        "    if normalize:\n",
        "        cm = np.around((cm.astype('float') / cm.sum(axis=1)[:, np.newaxis]),decimals=2)\n",
        "        print(\"Normalized confusion matrix\")\n",
        "    else:\n",
        "        print('Confusion matrix, without normalization')\n",
        "\n",
        "    print(cm)\n",
        "\n",
        "    thresh = cm.max() / 2.\n",
        "    for i, j in itertools.product(range(cm.shape[0]), range(cm.shape[1])):\n",
        "        plt.text(j, i, cm[i, j],\n",
        "                 horizontalalignment=\"center\",\n",
        "                 color=\"white\" if cm[i, j] > thresh else \"black\")\n",
        "\n",
        "    plt.tight_layout()\n",
        "    plt.ylabel('True label')\n",
        "    plt.xlabel('Predicted label')"
      ],
      "execution_count": 0,
      "outputs": []
    },
    {
      "cell_type": "markdown",
      "metadata": {
        "id": "zn21nLGKC0zz",
        "colab_type": "text"
      },
      "source": [
        "# **1. Alcohol use**"
      ]
    },
    {
      "cell_type": "code",
      "metadata": {
        "id": "ueTAGAzHCyH8",
        "colab_type": "code",
        "colab": {
          "base_uri": "https://localhost:8080/",
          "height": 419
        },
        "outputId": "bed3e995-0c50-4a85-9d36-6c8ab865da18"
      },
      "source": [
        "selectlist =[ 'NOTE' , 'Alcohol Use', 'Note Length']\n",
        "selectlist =[x for x in df.columns if x in selectlist]\n",
        "alcohol = df[selectlist].dropna()\n",
        "alcohol['Alcohol Use'] = np.where(alcohol['Alcohol Use'] == 'N', 0, 1)\n",
        "\n",
        "alcohol"
      ],
      "execution_count": 25,
      "outputs": [
        {
          "output_type": "execute_result",
          "data": {
            "text/html": [
              "<div>\n",
              "<style scoped>\n",
              "    .dataframe tbody tr th:only-of-type {\n",
              "        vertical-align: middle;\n",
              "    }\n",
              "\n",
              "    .dataframe tbody tr th {\n",
              "        vertical-align: top;\n",
              "    }\n",
              "\n",
              "    .dataframe thead th {\n",
              "        text-align: right;\n",
              "    }\n",
              "</style>\n",
              "<table border=\"1\" class=\"dataframe\">\n",
              "  <thead>\n",
              "    <tr style=\"text-align: right;\">\n",
              "      <th></th>\n",
              "      <th>NOTE</th>\n",
              "      <th>Alcohol Use</th>\n",
              "      <th>Note Length</th>\n",
              "    </tr>\n",
              "  </thead>\n",
              "  <tbody>\n",
              "    <tr>\n",
              "      <th>0</th>\n",
              "      <td>ogressNote SubjectivePatient IDfemaleChief Com...</td>\n",
              "      <td>0</td>\n",
              "      <td>3355</td>\n",
              "    </tr>\n",
              "    <tr>\n",
              "      <th>1</th>\n",
              "      <td>ogressNote SubjectivePatient IDfemaleChief Com...</td>\n",
              "      <td>0</td>\n",
              "      <td>2566</td>\n",
              "    </tr>\n",
              "    <tr>\n",
              "      <th>3</th>\n",
              "      <td>HistoryChief ComplaintPatientArm Pain rightatr...</td>\n",
              "      <td>0</td>\n",
              "      <td>1499</td>\n",
              "    </tr>\n",
              "    <tr>\n",
              "      <th>4</th>\n",
              "      <td>ogressNote SubjectivePatient IDfemaleChief Com...</td>\n",
              "      <td>0</td>\n",
              "      <td>3435</td>\n",
              "    </tr>\n",
              "    <tr>\n",
              "      <th>9</th>\n",
              "      <td>Progress Note SubjectivePatient IDfemaleChief ...</td>\n",
              "      <td>0</td>\n",
              "      <td>2197</td>\n",
              "    </tr>\n",
              "    <tr>\n",
              "      <th>...</th>\n",
              "      <td>...</td>\n",
              "      <td>...</td>\n",
              "      <td>...</td>\n",
              "    </tr>\n",
              "    <tr>\n",
              "      <th>1275</th>\n",
              "      <td>c/o painfeetmonthleftoutsdiefootmonthbreathNo ...</td>\n",
              "      <td>1</td>\n",
              "      <td>1728</td>\n",
              "    </tr>\n",
              "    <tr>\n",
              "      <th>1277</th>\n",
              "      <td>Pulmonary New Patient EvaluationLung NoduleCli...</td>\n",
              "      <td>1</td>\n",
              "      <td>3533</td>\n",
              "    </tr>\n",
              "    <tr>\n",
              "      <th>1279</th>\n",
              "      <td>PharmacistPatient IDmalePMHtreatmentnaiveHCVci...</td>\n",
              "      <td>1</td>\n",
              "      <td>2153</td>\n",
              "    </tr>\n",
              "    <tr>\n",
              "      <th>1282</th>\n",
              "      <td>Gastroenterology/Hepatology Office Visit Subje...</td>\n",
              "      <td>1</td>\n",
              "      <td>5560</td>\n",
              "    </tr>\n",
              "    <tr>\n",
              "      <th>1284</th>\n",
              "      <td>PharmacistNote 4WEEKHCVRXFOLLOW-UPSubjectivePa...</td>\n",
              "      <td>1</td>\n",
              "      <td>1442</td>\n",
              "    </tr>\n",
              "  </tbody>\n",
              "</table>\n",
              "<p>343 rows × 3 columns</p>\n",
              "</div>"
            ],
            "text/plain": [
              "                                                   NOTE  ...  Note Length\n",
              "0     ogressNote SubjectivePatient IDfemaleChief Com...  ...         3355\n",
              "1     ogressNote SubjectivePatient IDfemaleChief Com...  ...         2566\n",
              "3     HistoryChief ComplaintPatientArm Pain rightatr...  ...         1499\n",
              "4     ogressNote SubjectivePatient IDfemaleChief Com...  ...         3435\n",
              "9     Progress Note SubjectivePatient IDfemaleChief ...  ...         2197\n",
              "...                                                 ...  ...          ...\n",
              "1275  c/o painfeetmonthleftoutsdiefootmonthbreathNo ...  ...         1728\n",
              "1277  Pulmonary New Patient EvaluationLung NoduleCli...  ...         3533\n",
              "1279  PharmacistPatient IDmalePMHtreatmentnaiveHCVci...  ...         2153\n",
              "1282  Gastroenterology/Hepatology Office Visit Subje...  ...         5560\n",
              "1284  PharmacistNote 4WEEKHCVRXFOLLOW-UPSubjectivePa...  ...         1442\n",
              "\n",
              "[343 rows x 3 columns]"
            ]
          },
          "metadata": {
            "tags": []
          },
          "execution_count": 25
        }
      ]
    },
    {
      "cell_type": "code",
      "metadata": {
        "id": "xgybR4trC52X",
        "colab_type": "code",
        "colab": {
          "base_uri": "https://localhost:8080/",
          "height": 559
        },
        "outputId": "0ef8fc74-d9a9-4716-b5b9-812220f702bb"
      },
      "source": [
        "note_len_df = alcohol.sort_values(by='Note Length')\n",
        "plt3 = go.Scatter(x = note_len_df['Note Length'], y = alcohol['Alcohol Use'], mode='markers')\n",
        "lyt3 = go.Layout(title=\"Notes Length vs. Alcohol Use\", xaxis=dict(title='Notes Length'),yaxis=dict(title='Alcohol Use'))\n",
        "fig3 = go.Figure(data=[plt3], layout=lyt3)\n",
        "fig3.show()\n",
        "print(\"Notes Length to Alcohol Use Correlation:\", note_len_df['Note Length'].corr(alcohol['Alcohol Use']))"
      ],
      "execution_count": 27,
      "outputs": [
        {
          "output_type": "display_data",
          "data": {
            "text/html": [
              "<html>\n",
              "<head><meta charset=\"utf-8\" /></head>\n",
              "<body>\n",
              "    <div>\n",
              "            <script src=\"https://cdnjs.cloudflare.com/ajax/libs/mathjax/2.7.5/MathJax.js?config=TeX-AMS-MML_SVG\"></script><script type=\"text/javascript\">if (window.MathJax) {MathJax.Hub.Config({SVG: {font: \"STIX-Web\"}});}</script>\n",
              "                <script type=\"text/javascript\">window.PlotlyConfig = {MathJaxConfig: 'local'};</script>\n",
              "        <script src=\"https://cdn.plot.ly/plotly-latest.min.js\"></script>    \n",
              "            <div id=\"e483686d-eeb1-4097-a8b9-84a43c25b19a\" class=\"plotly-graph-div\" style=\"height:525px; width:100%;\"></div>\n",
              "            <script type=\"text/javascript\">\n",
              "                \n",
              "                    window.PLOTLYENV=window.PLOTLYENV || {};\n",
              "                    \n",
              "                if (document.getElementById(\"e483686d-eeb1-4097-a8b9-84a43c25b19a\")) {\n",
              "                    Plotly.newPlot(\n",
              "                        'e483686d-eeb1-4097-a8b9-84a43c25b19a',\n",
              "                        [{\"mode\": \"markers\", \"type\": \"scatter\", \"x\": [53, 142, 147, 168, 263, 263, 295, 348, 440, 531, 553, 611, 670, 767, 975, 999, 1018, 1055, 1073, 1097, 1139, 1154, 1176, 1191, 1202, 1202, 1220, 1244, 1262, 1268, 1271, 1278, 1282, 1282, 1346, 1360, 1366, 1372, 1382, 1382, 1400, 1401, 1418, 1442, 1455, 1457, 1471, 1482, 1495, 1499, 1537, 1537, 1549, 1567, 1574, 1600, 1623, 1637, 1655, 1676, 1690, 1697, 1701, 1710, 1723, 1723, 1723, 1728, 1728, 1731, 1758, 1763, 1774, 1795, 1805, 1806, 1834, 1867, 1878, 1885, 1897, 1933, 1942, 1945, 1946, 1965, 1969, 1973, 1975, 1978, 1980, 1993, 2003, 2005, 2008, 2018, 2028, 2029, 2044, 2046, 2050, 2062, 2083, 2087, 2090, 2098, 2103, 2106, 2106, 2108, 2109, 2116, 2117, 2118, 2136, 2137, 2153, 2153, 2153, 2170, 2179, 2183, 2197, 2231, 2231, 2235, 2251, 2258, 2265, 2297, 2305, 2309, 2312, 2313, 2313, 2330, 2330, 2334, 2340, 2347, 2365, 2366, 2367, 2372, 2375, 2379, 2384, 2393, 2411, 2424, 2437, 2447, 2448, 2453, 2461, 2463, 2471, 2471, 2485, 2506, 2510, 2522, 2525, 2560, 2566, 2576, 2581, 2598, 2600, 2600, 2611, 2623, 2654, 2673, 2683, 2684, 2697, 2705, 2714, 2727, 2731, 2777, 2779, 2785, 2789, 2804, 2823, 2830, 2838, 2838, 2838, 2859, 2866, 2868, 2868, 2877, 2879, 2895, 2920, 2928, 2936, 2938, 2938, 2940, 2949, 3000, 3015, 3028, 3033, 3043, 3045, 3050, 3058, 3063, 3110, 3132, 3137, 3140, 3158, 3158, 3159, 3164, 3165, 3173, 3189, 3215, 3229, 3252, 3254, 3255, 3270, 3279, 3330, 3339, 3347, 3353, 3355, 3355, 3370, 3372, 3402, 3409, 3411, 3420, 3425, 3431, 3435, 3461, 3465, 3480, 3485, 3513, 3533, 3543, 3547, 3566, 3575, 3585, 3587, 3601, 3608, 3620, 3622, 3624, 3632, 3641, 3650, 3658, 3662, 3670, 3701, 3703, 3714, 3735, 3776, 3781, 3808, 3855, 3877, 3903, 3918, 3921, 3935, 3938, 3963, 3986, 4070, 4106, 4109, 4116, 4134, 4135, 4145, 4167, 4175, 4178, 4178, 4245, 4252, 4314, 4369, 4387, 4397, 4399, 4441, 4450, 4476, 4497, 4541, 4541, 4582, 4672, 4673, 4823, 4823, 4838, 4938, 4968, 4990, 5065, 5142, 5145, 5148, 5204, 5330, 5355, 5383, 5414, 5425, 5438, 5535, 5543, 5560, 5561, 5630, 5667, 5708, 5726, 5815, 6533, 6958, 7032, 9703], \"y\": [0, 0, 0, 0, 0, 0, 1, 1, 0, 0, 0, 0, 0, 0, 0, 1, 1, 1, 1, 1, 1, 1, 1, 1, 1, 1, 1, 1, 1, 1, 1, 1, 1, 1, 1, 1, 1, 1, 0, 1, 0, 1, 1, 1, 1, 1, 1, 1, 0, 0, 0, 0, 0, 0, 0, 1, 0, 0, 1, 1, 0, 0, 0, 0, 0, 0, 0, 1, 0, 0, 1, 1, 1, 0, 0, 0, 0, 0, 0, 0, 0, 1, 1, 1, 1, 1, 0, 0, 0, 0, 1, 1, 0, 0, 0, 0, 1, 1, 0, 0, 0, 0, 0, 0, 1, 0, 0, 0, 1, 0, 0, 0, 1, 0, 1, 0, 0, 0, 0, 0, 0, 1, 1, 1, 1, 1, 1, 1, 1, 1, 1, 0, 1, 0, 1, 1, 1, 1, 0, 0, 1, 1, 0, 0, 0, 0, 0, 0, 0, 1, 0, 0, 0, 0, 0, 0, 0, 0, 0, 0, 1, 1, 0, 0, 1, 0, 0, 0, 0, 0, 0, 0, 0, 1, 1, 1, 0, 0, 0, 0, 0, 1, 1, 1, 1, 1, 0, 0, 0, 0, 0, 0, 0, 0, 0, 0, 0, 0, 0, 0, 0, 0, 0, 0, 0, 0, 1, 0, 0, 0, 0, 0, 0, 0, 0, 0, 0, 0, 0, 0, 0, 0, 0, 0, 0, 0, 0, 0, 0, 0, 0, 0, 0, 0, 0, 0, 0, 0, 0, 0, 1, 0, 0, 0, 0, 0, 0, 0, 0, 0, 0, 0, 0, 0, 0, 0, 0, 0, 1, 0, 0, 1, 0, 0, 0, 0, 0, 0, 0, 0, 0, 0, 0, 0, 0, 1, 1, 1, 1, 0, 0, 0, 1, 0, 0, 0, 0, 0, 0, 0, 0, 1, 0, 0, 0, 0, 0, 1, 0, 0, 0, 0, 0, 0, 0, 0, 1, 1, 0, 0, 0, 1, 1, 1, 1, 1, 1, 1, 1, 1, 1, 1, 1, 1, 1, 1, 1, 1, 1, 1, 1, 1, 1, 1, 1, 1, 1, 1, 1, 1, 1, 1, 1]}],\n",
              "                        {\"template\": {\"data\": {\"bar\": [{\"error_x\": {\"color\": \"#2a3f5f\"}, \"error_y\": {\"color\": \"#2a3f5f\"}, \"marker\": {\"line\": {\"color\": \"#E5ECF6\", \"width\": 0.5}}, \"type\": \"bar\"}], \"barpolar\": [{\"marker\": {\"line\": {\"color\": \"#E5ECF6\", \"width\": 0.5}}, \"type\": \"barpolar\"}], \"carpet\": [{\"aaxis\": {\"endlinecolor\": \"#2a3f5f\", \"gridcolor\": \"white\", \"linecolor\": \"white\", \"minorgridcolor\": \"white\", \"startlinecolor\": \"#2a3f5f\"}, \"baxis\": {\"endlinecolor\": \"#2a3f5f\", \"gridcolor\": \"white\", \"linecolor\": \"white\", \"minorgridcolor\": \"white\", \"startlinecolor\": \"#2a3f5f\"}, \"type\": \"carpet\"}], \"choropleth\": [{\"colorbar\": {\"outlinewidth\": 0, \"ticks\": \"\"}, \"type\": \"choropleth\"}], \"contour\": [{\"colorbar\": {\"outlinewidth\": 0, \"ticks\": \"\"}, \"colorscale\": [[0.0, \"#0d0887\"], [0.1111111111111111, \"#46039f\"], [0.2222222222222222, \"#7201a8\"], [0.3333333333333333, \"#9c179e\"], [0.4444444444444444, \"#bd3786\"], [0.5555555555555556, \"#d8576b\"], [0.6666666666666666, \"#ed7953\"], [0.7777777777777778, \"#fb9f3a\"], [0.8888888888888888, \"#fdca26\"], [1.0, \"#f0f921\"]], \"type\": \"contour\"}], \"contourcarpet\": [{\"colorbar\": {\"outlinewidth\": 0, \"ticks\": \"\"}, \"type\": \"contourcarpet\"}], \"heatmap\": [{\"colorbar\": {\"outlinewidth\": 0, \"ticks\": \"\"}, \"colorscale\": [[0.0, \"#0d0887\"], [0.1111111111111111, \"#46039f\"], [0.2222222222222222, \"#7201a8\"], [0.3333333333333333, \"#9c179e\"], [0.4444444444444444, \"#bd3786\"], [0.5555555555555556, \"#d8576b\"], [0.6666666666666666, \"#ed7953\"], [0.7777777777777778, \"#fb9f3a\"], [0.8888888888888888, \"#fdca26\"], [1.0, \"#f0f921\"]], \"type\": \"heatmap\"}], \"heatmapgl\": [{\"colorbar\": {\"outlinewidth\": 0, \"ticks\": \"\"}, \"colorscale\": [[0.0, \"#0d0887\"], [0.1111111111111111, \"#46039f\"], [0.2222222222222222, \"#7201a8\"], [0.3333333333333333, \"#9c179e\"], [0.4444444444444444, \"#bd3786\"], [0.5555555555555556, \"#d8576b\"], [0.6666666666666666, \"#ed7953\"], [0.7777777777777778, \"#fb9f3a\"], [0.8888888888888888, \"#fdca26\"], [1.0, \"#f0f921\"]], \"type\": \"heatmapgl\"}], \"histogram\": [{\"marker\": {\"colorbar\": {\"outlinewidth\": 0, \"ticks\": \"\"}}, \"type\": \"histogram\"}], \"histogram2d\": [{\"colorbar\": {\"outlinewidth\": 0, \"ticks\": \"\"}, \"colorscale\": [[0.0, \"#0d0887\"], [0.1111111111111111, \"#46039f\"], [0.2222222222222222, \"#7201a8\"], [0.3333333333333333, \"#9c179e\"], [0.4444444444444444, \"#bd3786\"], [0.5555555555555556, \"#d8576b\"], [0.6666666666666666, \"#ed7953\"], [0.7777777777777778, \"#fb9f3a\"], [0.8888888888888888, \"#fdca26\"], [1.0, \"#f0f921\"]], \"type\": \"histogram2d\"}], \"histogram2dcontour\": [{\"colorbar\": {\"outlinewidth\": 0, \"ticks\": \"\"}, \"colorscale\": [[0.0, \"#0d0887\"], [0.1111111111111111, \"#46039f\"], [0.2222222222222222, \"#7201a8\"], [0.3333333333333333, \"#9c179e\"], [0.4444444444444444, \"#bd3786\"], [0.5555555555555556, \"#d8576b\"], [0.6666666666666666, \"#ed7953\"], [0.7777777777777778, \"#fb9f3a\"], [0.8888888888888888, \"#fdca26\"], [1.0, \"#f0f921\"]], \"type\": \"histogram2dcontour\"}], \"mesh3d\": [{\"colorbar\": {\"outlinewidth\": 0, \"ticks\": \"\"}, \"type\": \"mesh3d\"}], \"parcoords\": [{\"line\": {\"colorbar\": {\"outlinewidth\": 0, \"ticks\": \"\"}}, \"type\": \"parcoords\"}], \"pie\": [{\"automargin\": true, \"type\": \"pie\"}], \"scatter\": [{\"marker\": {\"colorbar\": {\"outlinewidth\": 0, \"ticks\": \"\"}}, \"type\": \"scatter\"}], \"scatter3d\": [{\"line\": {\"colorbar\": {\"outlinewidth\": 0, \"ticks\": \"\"}}, \"marker\": {\"colorbar\": {\"outlinewidth\": 0, \"ticks\": \"\"}}, \"type\": \"scatter3d\"}], \"scattercarpet\": [{\"marker\": {\"colorbar\": {\"outlinewidth\": 0, \"ticks\": \"\"}}, \"type\": \"scattercarpet\"}], \"scattergeo\": [{\"marker\": {\"colorbar\": {\"outlinewidth\": 0, \"ticks\": \"\"}}, \"type\": \"scattergeo\"}], \"scattergl\": [{\"marker\": {\"colorbar\": {\"outlinewidth\": 0, \"ticks\": \"\"}}, \"type\": \"scattergl\"}], \"scattermapbox\": [{\"marker\": {\"colorbar\": {\"outlinewidth\": 0, \"ticks\": \"\"}}, \"type\": \"scattermapbox\"}], \"scatterpolar\": [{\"marker\": {\"colorbar\": {\"outlinewidth\": 0, \"ticks\": \"\"}}, \"type\": \"scatterpolar\"}], \"scatterpolargl\": [{\"marker\": {\"colorbar\": {\"outlinewidth\": 0, \"ticks\": \"\"}}, \"type\": \"scatterpolargl\"}], \"scatterternary\": [{\"marker\": {\"colorbar\": {\"outlinewidth\": 0, \"ticks\": \"\"}}, \"type\": \"scatterternary\"}], \"surface\": [{\"colorbar\": {\"outlinewidth\": 0, \"ticks\": \"\"}, \"colorscale\": [[0.0, \"#0d0887\"], [0.1111111111111111, \"#46039f\"], [0.2222222222222222, \"#7201a8\"], [0.3333333333333333, \"#9c179e\"], [0.4444444444444444, \"#bd3786\"], [0.5555555555555556, \"#d8576b\"], [0.6666666666666666, \"#ed7953\"], [0.7777777777777778, \"#fb9f3a\"], [0.8888888888888888, \"#fdca26\"], [1.0, \"#f0f921\"]], \"type\": \"surface\"}], \"table\": [{\"cells\": {\"fill\": {\"color\": \"#EBF0F8\"}, \"line\": {\"color\": \"white\"}}, \"header\": {\"fill\": {\"color\": \"#C8D4E3\"}, \"line\": {\"color\": \"white\"}}, \"type\": \"table\"}]}, \"layout\": {\"annotationdefaults\": {\"arrowcolor\": \"#2a3f5f\", \"arrowhead\": 0, \"arrowwidth\": 1}, \"coloraxis\": {\"colorbar\": {\"outlinewidth\": 0, \"ticks\": \"\"}}, \"colorscale\": {\"diverging\": [[0, \"#8e0152\"], [0.1, \"#c51b7d\"], [0.2, \"#de77ae\"], [0.3, \"#f1b6da\"], [0.4, \"#fde0ef\"], [0.5, \"#f7f7f7\"], [0.6, \"#e6f5d0\"], [0.7, \"#b8e186\"], [0.8, \"#7fbc41\"], [0.9, \"#4d9221\"], [1, \"#276419\"]], \"sequential\": [[0.0, \"#0d0887\"], [0.1111111111111111, \"#46039f\"], [0.2222222222222222, \"#7201a8\"], [0.3333333333333333, \"#9c179e\"], [0.4444444444444444, \"#bd3786\"], [0.5555555555555556, \"#d8576b\"], [0.6666666666666666, \"#ed7953\"], [0.7777777777777778, \"#fb9f3a\"], [0.8888888888888888, \"#fdca26\"], [1.0, \"#f0f921\"]], \"sequentialminus\": [[0.0, \"#0d0887\"], [0.1111111111111111, \"#46039f\"], [0.2222222222222222, \"#7201a8\"], [0.3333333333333333, \"#9c179e\"], [0.4444444444444444, \"#bd3786\"], [0.5555555555555556, \"#d8576b\"], [0.6666666666666666, \"#ed7953\"], [0.7777777777777778, \"#fb9f3a\"], [0.8888888888888888, \"#fdca26\"], [1.0, \"#f0f921\"]]}, \"colorway\": [\"#636efa\", \"#EF553B\", \"#00cc96\", \"#ab63fa\", \"#FFA15A\", \"#19d3f3\", \"#FF6692\", \"#B6E880\", \"#FF97FF\", \"#FECB52\"], \"font\": {\"color\": \"#2a3f5f\"}, \"geo\": {\"bgcolor\": \"white\", \"lakecolor\": \"white\", \"landcolor\": \"#E5ECF6\", \"showlakes\": true, \"showland\": true, \"subunitcolor\": \"white\"}, \"hoverlabel\": {\"align\": \"left\"}, \"hovermode\": \"closest\", \"mapbox\": {\"style\": \"light\"}, \"paper_bgcolor\": \"white\", \"plot_bgcolor\": \"#E5ECF6\", \"polar\": {\"angularaxis\": {\"gridcolor\": \"white\", \"linecolor\": \"white\", \"ticks\": \"\"}, \"bgcolor\": \"#E5ECF6\", \"radialaxis\": {\"gridcolor\": \"white\", \"linecolor\": \"white\", \"ticks\": \"\"}}, \"scene\": {\"xaxis\": {\"backgroundcolor\": \"#E5ECF6\", \"gridcolor\": \"white\", \"gridwidth\": 2, \"linecolor\": \"white\", \"showbackground\": true, \"ticks\": \"\", \"zerolinecolor\": \"white\"}, \"yaxis\": {\"backgroundcolor\": \"#E5ECF6\", \"gridcolor\": \"white\", \"gridwidth\": 2, \"linecolor\": \"white\", \"showbackground\": true, \"ticks\": \"\", \"zerolinecolor\": \"white\"}, \"zaxis\": {\"backgroundcolor\": \"#E5ECF6\", \"gridcolor\": \"white\", \"gridwidth\": 2, \"linecolor\": \"white\", \"showbackground\": true, \"ticks\": \"\", \"zerolinecolor\": \"white\"}}, \"shapedefaults\": {\"line\": {\"color\": \"#2a3f5f\"}}, \"ternary\": {\"aaxis\": {\"gridcolor\": \"white\", \"linecolor\": \"white\", \"ticks\": \"\"}, \"baxis\": {\"gridcolor\": \"white\", \"linecolor\": \"white\", \"ticks\": \"\"}, \"bgcolor\": \"#E5ECF6\", \"caxis\": {\"gridcolor\": \"white\", \"linecolor\": \"white\", \"ticks\": \"\"}}, \"title\": {\"x\": 0.05}, \"xaxis\": {\"automargin\": true, \"gridcolor\": \"white\", \"linecolor\": \"white\", \"ticks\": \"\", \"title\": {\"standoff\": 15}, \"zerolinecolor\": \"white\", \"zerolinewidth\": 2}, \"yaxis\": {\"automargin\": true, \"gridcolor\": \"white\", \"linecolor\": \"white\", \"ticks\": \"\", \"title\": {\"standoff\": 15}, \"zerolinecolor\": \"white\", \"zerolinewidth\": 2}}}, \"title\": {\"text\": \"Notes Length vs. Alcohol Use\"}, \"xaxis\": {\"title\": {\"text\": \"Notes Length\"}}, \"yaxis\": {\"title\": {\"text\": \"Alcohol Use\"}}},\n",
              "                        {\"responsive\": true}\n",
              "                    ).then(function(){\n",
              "                            \n",
              "var gd = document.getElementById('e483686d-eeb1-4097-a8b9-84a43c25b19a');\n",
              "var x = new MutationObserver(function (mutations, observer) {{\n",
              "        var display = window.getComputedStyle(gd).display;\n",
              "        if (!display || display === 'none') {{\n",
              "            console.log([gd, 'removed!']);\n",
              "            Plotly.purge(gd);\n",
              "            observer.disconnect();\n",
              "        }}\n",
              "}});\n",
              "\n",
              "// Listen for the removal of the full notebook cells\n",
              "var notebookContainer = gd.closest('#notebook-container');\n",
              "if (notebookContainer) {{\n",
              "    x.observe(notebookContainer, {childList: true});\n",
              "}}\n",
              "\n",
              "// Listen for the clearing of the current output cell\n",
              "var outputEl = gd.closest('.output');\n",
              "if (outputEl) {{\n",
              "    x.observe(outputEl, {childList: true});\n",
              "}}\n",
              "\n",
              "                        })\n",
              "                };\n",
              "                \n",
              "            </script>\n",
              "        </div>\n",
              "</body>\n",
              "</html>"
            ]
          },
          "metadata": {
            "tags": []
          }
        },
        {
          "output_type": "stream",
          "text": [
            "Notes Length to Alcohol Use Correlation: -0.13174105781455483\n"
          ],
          "name": "stdout"
        }
      ]
    },
    {
      "cell_type": "code",
      "metadata": {
        "id": "kTBOLH8SC702",
        "colab_type": "code",
        "colab": {
          "base_uri": "https://localhost:8080/",
          "height": 221
        },
        "outputId": "48dd7fa9-4e64-4bbc-f3eb-6bb971a313e9"
      },
      "source": [
        "x1 = alcohol['NOTE']\n",
        "vect = TfidfVectorizer(ngram_range = (1,2))\n",
        "x_vect1 = vect.fit_transform(x1)\n",
        "\n",
        "y1 = alcohol['Alcohol Use']\n",
        "y1"
      ],
      "execution_count": 28,
      "outputs": [
        {
          "output_type": "execute_result",
          "data": {
            "text/plain": [
              "0       0\n",
              "1       0\n",
              "3       0\n",
              "4       0\n",
              "9       0\n",
              "       ..\n",
              "1275    1\n",
              "1277    1\n",
              "1279    1\n",
              "1282    1\n",
              "1284    1\n",
              "Name: Alcohol Use, Length: 343, dtype: int64"
            ]
          },
          "metadata": {
            "tags": []
          },
          "execution_count": 28
        }
      ]
    },
    {
      "cell_type": "code",
      "metadata": {
        "id": "JDL5WGXFDB8J",
        "colab_type": "code",
        "colab": {
          "base_uri": "https://localhost:8080/",
          "height": 323
        },
        "outputId": "122b6d6c-2515-4f6e-ab25-1f2fe800efaa"
      },
      "source": [
        "svmy1,svmp1 = linsvc(x_vect1,y1)\n",
        "knny1,knnp1 = revknn(x_vect1,y1)\n",
        "nby1,nbp1 = revnb(x_vect1,y1)"
      ],
      "execution_count": 29,
      "outputs": [
        {
          "output_type": "stream",
          "text": [
            "### Linear SVC: ###\n",
            "Accuracy: 80.23 %\n",
            "F1 score: 56.41 %\n",
            "Precision: 44.0 %\n",
            "Recall: 78.57 % \n",
            "\n",
            "### kNN: ###\n",
            "Accuracy: 82.56 %\n",
            "F1 score: 61.54 %\n",
            "Precision: 48.0 %\n",
            "Recall: 85.71 % \n",
            "\n",
            "### Naive Bayes: ###\n",
            "Accuracy: 75.58 %\n",
            "F1 score: 36.36 %\n",
            "Precision: 24.0 %\n",
            "Recall: 75.0 % \n",
            "\n"
          ],
          "name": "stdout"
        }
      ]
    },
    {
      "cell_type": "code",
      "metadata": {
        "id": "1ODNp-bJDEes",
        "colab_type": "code",
        "colab": {
          "base_uri": "https://localhost:8080/",
          "height": 1000
        },
        "outputId": "463c48d5-1c8b-493f-e780-b575f82e6eb3"
      },
      "source": [
        "c11 = confusion_matrix(svmy1,svmp1)\n",
        "c21 = confusion_matrix(knny1,knnp1)\n",
        "c31 = confusion_matrix(nby1,nbp1)\n",
        "class_names = ['Y', 'N']\n",
        "plt.figure()\n",
        "plot_confusion_matrix(c11, classes=class_names,normalize=False,title='Alcohol - Confusion matrix - SVM ')\n",
        "plt.figure()\n",
        "plot_confusion_matrix(c21, classes=class_names,normalize=False,title='Alcohol - Confusion matrix - KNN')\n",
        "plt.figure()\n",
        "plot_confusion_matrix(c31, classes=class_names,normalize=False,title='Alcohol - Confusion matrix - NB')"
      ],
      "execution_count": 30,
      "outputs": [
        {
          "output_type": "stream",
          "text": [
            "Confusion matrix, without normalization\n",
            "[[58  3]\n",
            " [14 11]]\n",
            "Confusion matrix, without normalization\n",
            "[[59  2]\n",
            " [13 12]]\n",
            "Confusion matrix, without normalization\n",
            "[[59  2]\n",
            " [19  6]]\n"
          ],
          "name": "stdout"
        },
        {
          "output_type": "display_data",
          "data": {
            "image/png": "[encoded data removed]",
            "text/plain": [
              "<Figure size 432x288 with 2 Axes>"
            ]
          },
          "metadata": {
            "tags": [],
            "needs_background": "light"
          }
        },
        {
          "output_type": "display_data",
          "data": {
            "image/png": "[encoded data removed]",
            "text/plain": [
              "<Figure size 432x288 with 2 Axes>"
            ]
          },
          "metadata": {
            "tags": [],
            "needs_background": "light"
          }
        },
        {
          "output_type": "display_data",
          "data": {
            "image/png": "[encoded data removed]",
            "text/plain": [
              "<Figure size 432x288 with 2 Axes>"
            ]
          },
          "metadata": {
            "tags": [],
            "needs_background": "light"
          }
        }
      ]
    },
    {
      "cell_type": "markdown",
      "metadata": {
        "id": "rh2ZJvSxDLzq",
        "colab_type": "text"
      },
      "source": [
        "# **2. Drug use**"
      ]
    },
    {
      "cell_type": "code",
      "metadata": {
        "id": "yMtxzdGgDIaS",
        "colab_type": "code",
        "colab": {
          "base_uri": "https://localhost:8080/",
          "height": 419
        },
        "outputId": "0dee0f6d-7a92-496c-926b-0c2dd4e24567"
      },
      "source": [
        "selectlist2 =[ 'NOTE' , 'Current Drug Use', 'Note Length']\n",
        "selectlist2 =[x for x in df.columns if x in selectlist2]\n",
        "drug = df[selectlist2].dropna()\n",
        "drug['Current Drug Use'] = np.where(drug['Current Drug Use'] == 'N', 0, 1)\n",
        "\n",
        "drug"
      ],
      "execution_count": 31,
      "outputs": [
        {
          "output_type": "execute_result",
          "data": {
            "text/html": [
              "<div>\n",
              "<style scoped>\n",
              "    .dataframe tbody tr th:only-of-type {\n",
              "        vertical-align: middle;\n",
              "    }\n",
              "\n",
              "    .dataframe tbody tr th {\n",
              "        vertical-align: top;\n",
              "    }\n",
              "\n",
              "    .dataframe thead th {\n",
              "        text-align: right;\n",
              "    }\n",
              "</style>\n",
              "<table border=\"1\" class=\"dataframe\">\n",
              "  <thead>\n",
              "    <tr style=\"text-align: right;\">\n",
              "      <th></th>\n",
              "      <th>NOTE</th>\n",
              "      <th>Current Drug Use</th>\n",
              "      <th>Note Length</th>\n",
              "    </tr>\n",
              "  </thead>\n",
              "  <tbody>\n",
              "    <tr>\n",
              "      <th>0</th>\n",
              "      <td>ogressNote SubjectivePatient IDfemaleChief Com...</td>\n",
              "      <td>1</td>\n",
              "      <td>3355</td>\n",
              "    </tr>\n",
              "    <tr>\n",
              "      <th>1</th>\n",
              "      <td>ogressNote SubjectivePatient IDfemaleChief Com...</td>\n",
              "      <td>1</td>\n",
              "      <td>2566</td>\n",
              "    </tr>\n",
              "    <tr>\n",
              "      <th>3</th>\n",
              "      <td>HistoryChief ComplaintPatientArm Pain rightatr...</td>\n",
              "      <td>1</td>\n",
              "      <td>1499</td>\n",
              "    </tr>\n",
              "    <tr>\n",
              "      <th>4</th>\n",
              "      <td>ogressNote SubjectivePatient IDfemaleChief Com...</td>\n",
              "      <td>1</td>\n",
              "      <td>3435</td>\n",
              "    </tr>\n",
              "    <tr>\n",
              "      <th>8</th>\n",
              "      <td>Progress Note SubjectivePatient IDfemalef/uURI...</td>\n",
              "      <td>1</td>\n",
              "      <td>1052</td>\n",
              "    </tr>\n",
              "    <tr>\n",
              "      <th>...</th>\n",
              "      <td>...</td>\n",
              "      <td>...</td>\n",
              "      <td>...</td>\n",
              "    </tr>\n",
              "    <tr>\n",
              "      <th>1276</th>\n",
              "      <td>c/o painright footright 5th toebig toe painmon...</td>\n",
              "      <td>1</td>\n",
              "      <td>1669</td>\n",
              "    </tr>\n",
              "    <tr>\n",
              "      <th>1277</th>\n",
              "      <td>Pulmonary New Patient EvaluationLung NoduleCli...</td>\n",
              "      <td>1</td>\n",
              "      <td>3533</td>\n",
              "    </tr>\n",
              "    <tr>\n",
              "      <th>1279</th>\n",
              "      <td>PharmacistPatient IDmalePMHtreatmentnaiveHCVci...</td>\n",
              "      <td>1</td>\n",
              "      <td>2153</td>\n",
              "    </tr>\n",
              "    <tr>\n",
              "      <th>1282</th>\n",
              "      <td>Gastroenterology/Hepatology Office Visit Subje...</td>\n",
              "      <td>1</td>\n",
              "      <td>5560</td>\n",
              "    </tr>\n",
              "    <tr>\n",
              "      <th>1284</th>\n",
              "      <td>PharmacistNote 4WEEKHCVRXFOLLOW-UPSubjectivePa...</td>\n",
              "      <td>1</td>\n",
              "      <td>1442</td>\n",
              "    </tr>\n",
              "  </tbody>\n",
              "</table>\n",
              "<p>356 rows × 3 columns</p>\n",
              "</div>"
            ],
            "text/plain": [
              "                                                   NOTE  ...  Note Length\n",
              "0     ogressNote SubjectivePatient IDfemaleChief Com...  ...         3355\n",
              "1     ogressNote SubjectivePatient IDfemaleChief Com...  ...         2566\n",
              "3     HistoryChief ComplaintPatientArm Pain rightatr...  ...         1499\n",
              "4     ogressNote SubjectivePatient IDfemaleChief Com...  ...         3435\n",
              "8     Progress Note SubjectivePatient IDfemalef/uURI...  ...         1052\n",
              "...                                                 ...  ...          ...\n",
              "1276  c/o painright footright 5th toebig toe painmon...  ...         1669\n",
              "1277  Pulmonary New Patient EvaluationLung NoduleCli...  ...         3533\n",
              "1279  PharmacistPatient IDmalePMHtreatmentnaiveHCVci...  ...         2153\n",
              "1282  Gastroenterology/Hepatology Office Visit Subje...  ...         5560\n",
              "1284  PharmacistNote 4WEEKHCVRXFOLLOW-UPSubjectivePa...  ...         1442\n",
              "\n",
              "[356 rows x 3 columns]"
            ]
          },
          "metadata": {
            "tags": []
          },
          "execution_count": 31
        }
      ]
    },
    {
      "cell_type": "code",
      "metadata": {
        "id": "zLv-oqViDPL3",
        "colab_type": "code",
        "colab": {
          "base_uri": "https://localhost:8080/",
          "height": 559
        },
        "outputId": "0af76125-1fb0-4cb4-df00-9932781e2af9"
      },
      "source": [
        "note_len_df = drug.sort_values(by='Note Length')\n",
        "plt4 = go.Scatter(x = note_len_df['Note Length'], y = drug['Current Drug Use'], mode='markers')\n",
        "lyt4 = go.Layout(title=\"Notes Length vs. Current Drug Use\", xaxis=dict(title='Notes Length'),yaxis=dict(title='Current Drug Use'))\n",
        "fig4 = go.Figure(data=[plt4], layout=lyt4)\n",
        "iplot(fig4)\n",
        "print(\"Notes Length to Current Drug Use Correlation:\", note_len_df['Note Length'].corr(drug['Current Drug Use']))"
      ],
      "execution_count": 32,
      "outputs": [
        {
          "output_type": "display_data",
          "data": {
            "text/html": [
              "<html>\n",
              "<head><meta charset=\"utf-8\" /></head>\n",
              "<body>\n",
              "    <div>\n",
              "            <script src=\"https://cdnjs.cloudflare.com/ajax/libs/mathjax/2.7.5/MathJax.js?config=TeX-AMS-MML_SVG\"></script><script type=\"text/javascript\">if (window.MathJax) {MathJax.Hub.Config({SVG: {font: \"STIX-Web\"}});}</script>\n",
              "                <script type=\"text/javascript\">window.PlotlyConfig = {MathJaxConfig: 'local'};</script>\n",
              "        <script src=\"https://cdn.plot.ly/plotly-latest.min.js\"></script>    \n",
              "            <div id=\"4db22b9c-e622-481d-81fb-8155f92edc9e\" class=\"plotly-graph-div\" style=\"height:525px; width:100%;\"></div>\n",
              "            <script type=\"text/javascript\">\n",
              "                \n",
              "                    window.PLOTLYENV=window.PLOTLYENV || {};\n",
              "                    \n",
              "                if (document.getElementById(\"4db22b9c-e622-481d-81fb-8155f92edc9e\")) {\n",
              "                    Plotly.newPlot(\n",
              "                        '4db22b9c-e622-481d-81fb-8155f92edc9e',\n",
              "                        [{\"mode\": \"markers\", \"type\": \"scatter\", \"x\": [37, 37, 39, 46, 52, 53, 70, 73, 83, 83, 112, 114, 119, 142, 168, 179, 189, 241, 263, 263, 277, 288, 295, 303, 305, 310, 315, 330, 427, 427, 440, 447, 520, 531, 553, 553, 554, 611, 670, 675, 718, 719, 740, 747, 819, 883, 923, 975, 1052, 1052, 1055, 1070, 1073, 1097, 1111, 1121, 1140, 1159, 1159, 1160, 1176, 1176, 1195, 1202, 1202, 1220, 1266, 1271, 1271, 1271, 1282, 1282, 1292, 1342, 1345, 1348, 1382, 1386, 1388, 1408, 1418, 1442, 1455, 1457, 1470, 1487, 1495, 1499, 1504, 1537, 1537, 1555, 1560, 1567, 1574, 1583, 1584, 1589, 1600, 1637, 1649, 1652, 1654, 1669, 1675, 1676, 1697, 1701, 1713, 1716, 1717, 1722, 1723, 1723, 1723, 1728, 1744, 1748, 1757, 1758, 1763, 1783, 1785, 1795, 1796, 1805, 1806, 1813, 1822, 1834, 1867, 1878, 1880, 1902, 1933, 1941, 1943, 1946, 1965, 1978, 1980, 2003, 2005, 2029, 2044, 2044, 2072, 2083, 2098, 2103, 2106, 2106, 2117, 2118, 2122, 2153, 2197, 2231, 2231, 2234, 2241, 2249, 2251, 2252, 2265, 2268, 2293, 2297, 2305, 2309, 2312, 2330, 2330, 2334, 2340, 2365, 2384, 2399, 2411, 2424, 2447, 2448, 2461, 2469, 2471, 2479, 2491, 2506, 2516, 2522, 2532, 2560, 2566, 2576, 2581, 2598, 2611, 2647, 2651, 2654, 2673, 2684, 2714, 2731, 2761, 2777, 2779, 2782, 2787, 2811, 2817, 2823, 2842, 2860, 2866, 2877, 2884, 2895, 2920, 2922, 2928, 2934, 2935, 2949, 3000, 3008, 3015, 3028, 3033, 3041, 3043, 3045, 3050, 3065, 3070, 3104, 3132, 3158, 3159, 3164, 3165, 3215, 3223, 3229, 3252, 3254, 3270, 3279, 3318, 3330, 3347, 3353, 3355, 3355, 3372, 3409, 3411, 3425, 3435, 3461, 3465, 3485, 3518, 3533, 3543, 3575, 3582, 3584, 3608, 3613, 3620, 3622, 3624, 3632, 3650, 3701, 3703, 3714, 3735, 3776, 3781, 3793, 3808, 3855, 3901, 3903, 3906, 3909, 3918, 3921, 3922, 3938, 3963, 3986, 3990, 4070, 4106, 4116, 4159, 4167, 4175, 4178, 4221, 4245, 4314, 4369, 4387, 4397, 4399, 4441, 4450, 4476, 4477, 4533, 4541, 4541, 4582, 4672, 4673, 4728, 4823, 4823, 4938, 4968, 4990, 5065, 5135, 5142, 5145, 5148, 5330, 5355, 5383, 5425, 5438, 5474, 5505, 5535, 5543, 5560, 5561, 5630, 5726, 5815, 6118, 6183, 6299, 6953, 7032, 7121, 7439, 7789, 7814, 9703, 10608, 12211], \"y\": [1, 1, 1, 1, 1, 1, 1, 1, 1, 1, 1, 1, 1, 1, 1, 1, 1, 1, 1, 1, 1, 1, 1, 1, 1, 1, 1, 1, 1, 1, 1, 1, 1, 1, 1, 1, 1, 1, 1, 1, 1, 1, 1, 1, 1, 1, 0, 1, 1, 1, 1, 1, 1, 1, 1, 1, 1, 1, 1, 1, 1, 1, 1, 1, 1, 1, 1, 1, 1, 1, 1, 1, 1, 1, 1, 1, 1, 1, 1, 1, 1, 1, 1, 1, 1, 0, 0, 0, 1, 0, 0, 0, 1, 0, 1, 1, 1, 1, 1, 1, 1, 1, 1, 1, 1, 1, 1, 1, 1, 1, 1, 1, 1, 1, 1, 1, 1, 1, 1, 1, 1, 1, 1, 1, 1, 1, 1, 1, 1, 1, 1, 1, 1, 1, 1, 0, 1, 1, 1, 1, 0, 1, 1, 1, 1, 1, 1, 1, 1, 1, 1, 1, 1, 1, 1, 0, 0, 1, 1, 1, 1, 1, 1, 1, 1, 0, 1, 0, 1, 0, 0, 0, 0, 0, 0, 0, 0, 0, 1, 1, 1, 1, 1, 1, 1, 1, 0, 1, 0, 0, 1, 0, 0, 0, 0, 0, 0, 0, 0, 0, 1, 1, 1, 1, 1, 1, 1, 1, 1, 1, 1, 1, 1, 1, 1, 1, 1, 1, 1, 1, 1, 1, 1, 1, 1, 1, 1, 1, 1, 1, 1, 1, 1, 1, 0, 0, 0, 0, 0, 0, 0, 0, 0, 0, 0, 0, 0, 0, 0, 0, 0, 0, 0, 0, 0, 0, 0, 0, 0, 0, 0, 0, 0, 0, 0, 0, 0, 0, 0, 0, 0, 0, 0, 0, 0, 0, 0, 0, 0, 0, 0, 0, 0, 0, 0, 1, 1, 1, 1, 0, 1, 1, 1, 1, 0, 1, 1, 1, 1, 0, 1, 0, 1, 0, 1, 1, 0, 0, 1, 0, 1, 0, 1, 1, 1, 1, 1, 1, 1, 0, 1, 1, 1, 1, 1, 1, 1, 1, 1, 1, 1, 1, 1, 0, 1, 1, 0, 0, 0, 0, 0, 1, 1, 1, 0, 1, 1, 1, 1, 1, 1, 1, 1, 1, 1, 1]}],\n",
              "                        {\"template\": {\"data\": {\"bar\": [{\"error_x\": {\"color\": \"#2a3f5f\"}, \"error_y\": {\"color\": \"#2a3f5f\"}, \"marker\": {\"line\": {\"color\": \"#E5ECF6\", \"width\": 0.5}}, \"type\": \"bar\"}], \"barpolar\": [{\"marker\": {\"line\": {\"color\": \"#E5ECF6\", \"width\": 0.5}}, \"type\": \"barpolar\"}], \"carpet\": [{\"aaxis\": {\"endlinecolor\": \"#2a3f5f\", \"gridcolor\": \"white\", \"linecolor\": \"white\", \"minorgridcolor\": \"white\", \"startlinecolor\": \"#2a3f5f\"}, \"baxis\": {\"endlinecolor\": \"#2a3f5f\", \"gridcolor\": \"white\", \"linecolor\": \"white\", \"minorgridcolor\": \"white\", \"startlinecolor\": \"#2a3f5f\"}, \"type\": \"carpet\"}], \"choropleth\": [{\"colorbar\": {\"outlinewidth\": 0, \"ticks\": \"\"}, \"type\": \"choropleth\"}], \"contour\": [{\"colorbar\": {\"outlinewidth\": 0, \"ticks\": \"\"}, \"colorscale\": [[0.0, \"#0d0887\"], [0.1111111111111111, \"#46039f\"], [0.2222222222222222, \"#7201a8\"], [0.3333333333333333, \"#9c179e\"], [0.4444444444444444, \"#bd3786\"], [0.5555555555555556, \"#d8576b\"], [0.6666666666666666, \"#ed7953\"], [0.7777777777777778, \"#fb9f3a\"], [0.8888888888888888, \"#fdca26\"], [1.0, \"#f0f921\"]], \"type\": \"contour\"}], \"contourcarpet\": [{\"colorbar\": {\"outlinewidth\": 0, \"ticks\": \"\"}, \"type\": \"contourcarpet\"}], \"heatmap\": [{\"colorbar\": {\"outlinewidth\": 0, \"ticks\": \"\"}, \"colorscale\": [[0.0, \"#0d0887\"], [0.1111111111111111, \"#46039f\"], [0.2222222222222222, \"#7201a8\"], [0.3333333333333333, \"#9c179e\"], [0.4444444444444444, \"#bd3786\"], [0.5555555555555556, \"#d8576b\"], [0.6666666666666666, \"#ed7953\"], [0.7777777777777778, \"#fb9f3a\"], [0.8888888888888888, \"#fdca26\"], [1.0, \"#f0f921\"]], \"type\": \"heatmap\"}], \"heatmapgl\": [{\"colorbar\": {\"outlinewidth\": 0, \"ticks\": \"\"}, \"colorscale\": [[0.0, \"#0d0887\"], [0.1111111111111111, \"#46039f\"], [0.2222222222222222, \"#7201a8\"], [0.3333333333333333, \"#9c179e\"], [0.4444444444444444, \"#bd3786\"], [0.5555555555555556, \"#d8576b\"], [0.6666666666666666, \"#ed7953\"], [0.7777777777777778, \"#fb9f3a\"], [0.8888888888888888, \"#fdca26\"], [1.0, \"#f0f921\"]], \"type\": \"heatmapgl\"}], \"histogram\": [{\"marker\": {\"colorbar\": {\"outlinewidth\": 0, \"ticks\": \"\"}}, \"type\": \"histogram\"}], \"histogram2d\": [{\"colorbar\": {\"outlinewidth\": 0, \"ticks\": \"\"}, \"colorscale\": [[0.0, \"#0d0887\"], [0.1111111111111111, \"#46039f\"], [0.2222222222222222, \"#7201a8\"], [0.3333333333333333, \"#9c179e\"], [0.4444444444444444, \"#bd3786\"], [0.5555555555555556, \"#d8576b\"], [0.6666666666666666, \"#ed7953\"], [0.7777777777777778, \"#fb9f3a\"], [0.8888888888888888, \"#fdca26\"], [1.0, \"#f0f921\"]], \"type\": \"histogram2d\"}], \"histogram2dcontour\": [{\"colorbar\": {\"outlinewidth\": 0, \"ticks\": \"\"}, \"colorscale\": [[0.0, \"#0d0887\"], [0.1111111111111111, \"#46039f\"], [0.2222222222222222, \"#7201a8\"], [0.3333333333333333, \"#9c179e\"], [0.4444444444444444, \"#bd3786\"], [0.5555555555555556, \"#d8576b\"], [0.6666666666666666, \"#ed7953\"], [0.7777777777777778, \"#fb9f3a\"], [0.8888888888888888, \"#fdca26\"], [1.0, \"#f0f921\"]], \"type\": \"histogram2dcontour\"}], \"mesh3d\": [{\"colorbar\": {\"outlinewidth\": 0, \"ticks\": \"\"}, \"type\": \"mesh3d\"}], \"parcoords\": [{\"line\": {\"colorbar\": {\"outlinewidth\": 0, \"ticks\": \"\"}}, \"type\": \"parcoords\"}], \"pie\": [{\"automargin\": true, \"type\": \"pie\"}], \"scatter\": [{\"marker\": {\"colorbar\": {\"outlinewidth\": 0, \"ticks\": \"\"}}, \"type\": \"scatter\"}], \"scatter3d\": [{\"line\": {\"colorbar\": {\"outlinewidth\": 0, \"ticks\": \"\"}}, \"marker\": {\"colorbar\": {\"outlinewidth\": 0, \"ticks\": \"\"}}, \"type\": \"scatter3d\"}], \"scattercarpet\": [{\"marker\": {\"colorbar\": {\"outlinewidth\": 0, \"ticks\": \"\"}}, \"type\": \"scattercarpet\"}], \"scattergeo\": [{\"marker\": {\"colorbar\": {\"outlinewidth\": 0, \"ticks\": \"\"}}, \"type\": \"scattergeo\"}], \"scattergl\": [{\"marker\": {\"colorbar\": {\"outlinewidth\": 0, \"ticks\": \"\"}}, \"type\": \"scattergl\"}], \"scattermapbox\": [{\"marker\": {\"colorbar\": {\"outlinewidth\": 0, \"ticks\": \"\"}}, \"type\": \"scattermapbox\"}], \"scatterpolar\": [{\"marker\": {\"colorbar\": {\"outlinewidth\": 0, \"ticks\": \"\"}}, \"type\": \"scatterpolar\"}], \"scatterpolargl\": [{\"marker\": {\"colorbar\": {\"outlinewidth\": 0, \"ticks\": \"\"}}, \"type\": \"scatterpolargl\"}], \"scatterternary\": [{\"marker\": {\"colorbar\": {\"outlinewidth\": 0, \"ticks\": \"\"}}, \"type\": \"scatterternary\"}], \"surface\": [{\"colorbar\": {\"outlinewidth\": 0, \"ticks\": \"\"}, \"colorscale\": [[0.0, \"#0d0887\"], [0.1111111111111111, \"#46039f\"], [0.2222222222222222, \"#7201a8\"], [0.3333333333333333, \"#9c179e\"], [0.4444444444444444, \"#bd3786\"], [0.5555555555555556, \"#d8576b\"], [0.6666666666666666, \"#ed7953\"], [0.7777777777777778, \"#fb9f3a\"], [0.8888888888888888, \"#fdca26\"], [1.0, \"#f0f921\"]], \"type\": \"surface\"}], \"table\": [{\"cells\": {\"fill\": {\"color\": \"#EBF0F8\"}, \"line\": {\"color\": \"white\"}}, \"header\": {\"fill\": {\"color\": \"#C8D4E3\"}, \"line\": {\"color\": \"white\"}}, \"type\": \"table\"}]}, \"layout\": {\"annotationdefaults\": {\"arrowcolor\": \"#2a3f5f\", \"arrowhead\": 0, \"arrowwidth\": 1}, \"coloraxis\": {\"colorbar\": {\"outlinewidth\": 0, \"ticks\": \"\"}}, \"colorscale\": {\"diverging\": [[0, \"#8e0152\"], [0.1, \"#c51b7d\"], [0.2, \"#de77ae\"], [0.3, \"#f1b6da\"], [0.4, \"#fde0ef\"], [0.5, \"#f7f7f7\"], [0.6, \"#e6f5d0\"], [0.7, \"#b8e186\"], [0.8, \"#7fbc41\"], [0.9, \"#4d9221\"], [1, \"#276419\"]], \"sequential\": [[0.0, \"#0d0887\"], [0.1111111111111111, \"#46039f\"], [0.2222222222222222, \"#7201a8\"], [0.3333333333333333, \"#9c179e\"], [0.4444444444444444, \"#bd3786\"], [0.5555555555555556, \"#d8576b\"], [0.6666666666666666, \"#ed7953\"], [0.7777777777777778, \"#fb9f3a\"], [0.8888888888888888, \"#fdca26\"], [1.0, \"#f0f921\"]], \"sequentialminus\": [[0.0, \"#0d0887\"], [0.1111111111111111, \"#46039f\"], [0.2222222222222222, \"#7201a8\"], [0.3333333333333333, \"#9c179e\"], [0.4444444444444444, \"#bd3786\"], [0.5555555555555556, \"#d8576b\"], [0.6666666666666666, \"#ed7953\"], [0.7777777777777778, \"#fb9f3a\"], [0.8888888888888888, \"#fdca26\"], [1.0, \"#f0f921\"]]}, \"colorway\": [\"#636efa\", \"#EF553B\", \"#00cc96\", \"#ab63fa\", \"#FFA15A\", \"#19d3f3\", \"#FF6692\", \"#B6E880\", \"#FF97FF\", \"#FECB52\"], \"font\": {\"color\": \"#2a3f5f\"}, \"geo\": {\"bgcolor\": \"white\", \"lakecolor\": \"white\", \"landcolor\": \"#E5ECF6\", \"showlakes\": true, \"showland\": true, \"subunitcolor\": \"white\"}, \"hoverlabel\": {\"align\": \"left\"}, \"hovermode\": \"closest\", \"mapbox\": {\"style\": \"light\"}, \"paper_bgcolor\": \"white\", \"plot_bgcolor\": \"#E5ECF6\", \"polar\": {\"angularaxis\": {\"gridcolor\": \"white\", \"linecolor\": \"white\", \"ticks\": \"\"}, \"bgcolor\": \"#E5ECF6\", \"radialaxis\": {\"gridcolor\": \"white\", \"linecolor\": \"white\", \"ticks\": \"\"}}, \"scene\": {\"xaxis\": {\"backgroundcolor\": \"#E5ECF6\", \"gridcolor\": \"white\", \"gridwidth\": 2, \"linecolor\": \"white\", \"showbackground\": true, \"ticks\": \"\", \"zerolinecolor\": \"white\"}, \"yaxis\": {\"backgroundcolor\": \"#E5ECF6\", \"gridcolor\": \"white\", \"gridwidth\": 2, \"linecolor\": \"white\", \"showbackground\": true, \"ticks\": \"\", \"zerolinecolor\": \"white\"}, \"zaxis\": {\"backgroundcolor\": \"#E5ECF6\", \"gridcolor\": \"white\", \"gridwidth\": 2, \"linecolor\": \"white\", \"showbackground\": true, \"ticks\": \"\", \"zerolinecolor\": \"white\"}}, \"shapedefaults\": {\"line\": {\"color\": \"#2a3f5f\"}}, \"ternary\": {\"aaxis\": {\"gridcolor\": \"white\", \"linecolor\": \"white\", \"ticks\": \"\"}, \"baxis\": {\"gridcolor\": \"white\", \"linecolor\": \"white\", \"ticks\": \"\"}, \"bgcolor\": \"#E5ECF6\", \"caxis\": {\"gridcolor\": \"white\", \"linecolor\": \"white\", \"ticks\": \"\"}}, \"title\": {\"x\": 0.05}, \"xaxis\": {\"automargin\": true, \"gridcolor\": \"white\", \"linecolor\": \"white\", \"ticks\": \"\", \"title\": {\"standoff\": 15}, \"zerolinecolor\": \"white\", \"zerolinewidth\": 2}, \"yaxis\": {\"automargin\": true, \"gridcolor\": \"white\", \"linecolor\": \"white\", \"ticks\": \"\", \"title\": {\"standoff\": 15}, \"zerolinecolor\": \"white\", \"zerolinewidth\": 2}}}, \"title\": {\"text\": \"Notes Length vs. Current Drug Use\"}, \"xaxis\": {\"title\": {\"text\": \"Notes Length\"}}, \"yaxis\": {\"title\": {\"text\": \"Current Drug Use\"}}},\n",
              "                        {\"responsive\": true}\n",
              "                    ).then(function(){\n",
              "                            \n",
              "var gd = document.getElementById('4db22b9c-e622-481d-81fb-8155f92edc9e');\n",
              "var x = new MutationObserver(function (mutations, observer) {{\n",
              "        var display = window.getComputedStyle(gd).display;\n",
              "        if (!display || display === 'none') {{\n",
              "            console.log([gd, 'removed!']);\n",
              "            Plotly.purge(gd);\n",
              "            observer.disconnect();\n",
              "        }}\n",
              "}});\n",
              "\n",
              "// Listen for the removal of the full notebook cells\n",
              "var notebookContainer = gd.closest('#notebook-container');\n",
              "if (notebookContainer) {{\n",
              "    x.observe(notebookContainer, {childList: true});\n",
              "}}\n",
              "\n",
              "// Listen for the clearing of the current output cell\n",
              "var outputEl = gd.closest('.output');\n",
              "if (outputEl) {{\n",
              "    x.observe(outputEl, {childList: true});\n",
              "}}\n",
              "\n",
              "                        })\n",
              "                };\n",
              "                \n",
              "            </script>\n",
              "        </div>\n",
              "</body>\n",
              "</html>"
            ]
          },
          "metadata": {
            "tags": []
          }
        },
        {
          "output_type": "stream",
          "text": [
            "Notes Length to Current Drug Use Correlation: -0.3302888753913917\n"
          ],
          "name": "stdout"
        }
      ]
    },
    {
      "cell_type": "code",
      "metadata": {
        "id": "SwanSRnCDU47",
        "colab_type": "code",
        "colab": {
          "base_uri": "https://localhost:8080/",
          "height": 221
        },
        "outputId": "f1bb3125-d517-4b5e-e679-9893d9880d80"
      },
      "source": [
        "x1 = drug['NOTE']\n",
        "vect = TfidfVectorizer(ngram_range = (1,2))\n",
        "x_vect1 = vect.fit_transform(x1)\n",
        "\n",
        "y2 = drug['Current Drug Use']\n",
        "y2"
      ],
      "execution_count": 33,
      "outputs": [
        {
          "output_type": "execute_result",
          "data": {
            "text/plain": [
              "0       1\n",
              "1       1\n",
              "3       1\n",
              "4       1\n",
              "8       1\n",
              "       ..\n",
              "1276    1\n",
              "1277    1\n",
              "1279    1\n",
              "1282    1\n",
              "1284    1\n",
              "Name: Current Drug Use, Length: 356, dtype: int64"
            ]
          },
          "metadata": {
            "tags": []
          },
          "execution_count": 33
        }
      ]
    },
    {
      "cell_type": "code",
      "metadata": {
        "id": "WGj0SgEoDYnZ",
        "colab_type": "code",
        "colab": {
          "base_uri": "https://localhost:8080/",
          "height": 323
        },
        "outputId": "6c89bf50-bd3f-4b4e-f029-e15c78c9804e"
      },
      "source": [
        "svmy2,svmp2 = linsvc(x_vect1,y2)\n",
        "knny2,knnp2 = revknn(x_vect1,y2)\n",
        "nby2,nbp2 = revnb(x_vect1,y2)"
      ],
      "execution_count": 34,
      "outputs": [
        {
          "output_type": "stream",
          "text": [
            "### Linear SVC: ###\n",
            "Accuracy: 84.27 %\n",
            "F1 score: 90.54 %\n",
            "Precision: 100.0 %\n",
            "Recall: 82.72 % \n",
            "\n",
            "### kNN: ###\n",
            "Accuracy: 77.53 %\n",
            "F1 score: 83.87 %\n",
            "Precision: 77.61 %\n",
            "Recall: 91.23 % \n",
            "\n",
            "### Naive Bayes: ###\n",
            "Accuracy: 83.15 %\n",
            "F1 score: 89.93 %\n",
            "Precision: 100.0 %\n",
            "Recall: 81.71 % \n",
            "\n"
          ],
          "name": "stdout"
        }
      ]
    },
    {
      "cell_type": "code",
      "metadata": {
        "id": "52hYF0SuDbBj",
        "colab_type": "code",
        "colab": {
          "base_uri": "https://localhost:8080/",
          "height": 1000
        },
        "outputId": "888fc03d-25e1-4469-8172-eacf7af15719"
      },
      "source": [
        "c12 = confusion_matrix(svmy2,svmp2)\n",
        "c22 = confusion_matrix(knny2,knnp2)\n",
        "c32 = confusion_matrix(nby2,nbp2)\n",
        "class_names = ['Y', 'N']\n",
        "plt.figure()\n",
        "plot_confusion_matrix(c12, classes=class_names,normalize=False,title='Drug - Confusion matrix - SVM ')\n",
        "plt.figure()\n",
        "plot_confusion_matrix(c22, classes=class_names,normalize=False,title='Drug - Confusion matrix - KNN')\n",
        "plt.figure()\n",
        "plot_confusion_matrix(c32, classes=class_names,normalize=False,title='Drug - Confusion matrix - NB')"
      ],
      "execution_count": 35,
      "outputs": [
        {
          "output_type": "stream",
          "text": [
            "Confusion matrix, without normalization\n",
            "[[ 8 14]\n",
            " [ 0 67]]\n",
            "Confusion matrix, without normalization\n",
            "[[17  5]\n",
            " [15 52]]\n",
            "Confusion matrix, without normalization\n",
            "[[ 7 15]\n",
            " [ 0 67]]\n"
          ],
          "name": "stdout"
        },
        {
          "output_type": "display_data",
          "data": {
            "image/png": "[encoded data removed]",
            "text/plain": [
              "<Figure size 432x288 with 2 Axes>"
            ]
          },
          "metadata": {
            "tags": [],
            "needs_background": "light"
          }
        },
        {
          "output_type": "display_data",
          "data": {
            "image/png": "[encoded data removed]",
            "text/plain": [
              "<Figure size 432x288 with 2 Axes>"
            ]
          },
          "metadata": {
            "tags": [],
            "needs_background": "light"
          }
        },
        {
          "output_type": "display_data",
          "data": {
            "image/png": "[encoded data removed]",
            "text/plain": [
              "<Figure size 432x288 with 2 Axes>"
            ]
          },
          "metadata": {
            "tags": [],
            "needs_background": "light"
          }
        }
      ]
    },
    {
      "cell_type": "markdown",
      "metadata": {
        "id": "oOfHVtj7DglE",
        "colab_type": "text"
      },
      "source": [
        "# **3. Current Smoker**"
      ]
    },
    {
      "cell_type": "code",
      "metadata": {
        "id": "mOOWTCgMDdan",
        "colab_type": "code",
        "colab": {
          "base_uri": "https://localhost:8080/",
          "height": 419
        },
        "outputId": "6d378571-64b5-485f-94a9-1d21f58e2ab1"
      },
      "source": [
        "selectlist3 =[ 'NOTE' , 'Current Smoker', 'Note Length']\n",
        "selectlist3 =[x for x in df.columns if x in selectlist3]\n",
        "smoker = df[selectlist3].dropna()\n",
        "smoker['Current Smoker'] = np.where(smoker['Current Smoker'] == 'N', 0, 1)\n",
        "\n",
        "smoker"
      ],
      "execution_count": 36,
      "outputs": [
        {
          "output_type": "execute_result",
          "data": {
            "text/html": [
              "<div>\n",
              "<style scoped>\n",
              "    .dataframe tbody tr th:only-of-type {\n",
              "        vertical-align: middle;\n",
              "    }\n",
              "\n",
              "    .dataframe tbody tr th {\n",
              "        vertical-align: top;\n",
              "    }\n",
              "\n",
              "    .dataframe thead th {\n",
              "        text-align: right;\n",
              "    }\n",
              "</style>\n",
              "<table border=\"1\" class=\"dataframe\">\n",
              "  <thead>\n",
              "    <tr style=\"text-align: right;\">\n",
              "      <th></th>\n",
              "      <th>NOTE</th>\n",
              "      <th>Current Smoker</th>\n",
              "      <th>Note Length</th>\n",
              "    </tr>\n",
              "  </thead>\n",
              "  <tbody>\n",
              "    <tr>\n",
              "      <th>0</th>\n",
              "      <td>ogressNote SubjectivePatient IDfemaleChief Com...</td>\n",
              "      <td>1</td>\n",
              "      <td>3355</td>\n",
              "    </tr>\n",
              "    <tr>\n",
              "      <th>1</th>\n",
              "      <td>ogressNote SubjectivePatient IDfemaleChief Com...</td>\n",
              "      <td>1</td>\n",
              "      <td>2566</td>\n",
              "    </tr>\n",
              "    <tr>\n",
              "      <th>3</th>\n",
              "      <td>HistoryChief ComplaintPatientArm Pain rightatr...</td>\n",
              "      <td>1</td>\n",
              "      <td>1499</td>\n",
              "    </tr>\n",
              "    <tr>\n",
              "      <th>4</th>\n",
              "      <td>ogressNote SubjectivePatient IDfemaleChief Com...</td>\n",
              "      <td>1</td>\n",
              "      <td>3435</td>\n",
              "    </tr>\n",
              "    <tr>\n",
              "      <th>9</th>\n",
              "      <td>Progress Note SubjectivePatient IDfemaleChief ...</td>\n",
              "      <td>1</td>\n",
              "      <td>2197</td>\n",
              "    </tr>\n",
              "    <tr>\n",
              "      <th>...</th>\n",
              "      <td>...</td>\n",
              "      <td>...</td>\n",
              "      <td>...</td>\n",
              "    </tr>\n",
              "    <tr>\n",
              "      <th>1223</th>\n",
              "      <td>Tylenolmdsacolicknotifiedpending bloodurine cu...</td>\n",
              "      <td>1</td>\n",
              "      <td>2485</td>\n",
              "    </tr>\n",
              "    <tr>\n",
              "      <th>1224</th>\n",
              "      <td>ORTHOPAEDICS DAILYNOTEDaysPost-Op *Left* ORIFF...</td>\n",
              "      <td>1</td>\n",
              "      <td>2859</td>\n",
              "    </tr>\n",
              "    <tr>\n",
              "      <th>1225</th>\n",
              "      <td>MEDICINEPHYSICIANDischarge datePhysicianNo att...</td>\n",
              "      <td>1</td>\n",
              "      <td>3896</td>\n",
              "    </tr>\n",
              "    <tr>\n",
              "      <th>1247</th>\n",
              "      <td>RENAL ProgressPatient IDRmalePMH/oHTNs/p chron...</td>\n",
              "      <td>0</td>\n",
              "      <td>2447</td>\n",
              "    </tr>\n",
              "    <tr>\n",
              "      <th>1278</th>\n",
              "      <td>OFFICE VISITDATESERVICEpatientright hand domin...</td>\n",
              "      <td>0</td>\n",
              "      <td>612</td>\n",
              "    </tr>\n",
              "  </tbody>\n",
              "</table>\n",
              "<p>349 rows × 3 columns</p>\n",
              "</div>"
            ],
            "text/plain": [
              "                                                   NOTE  ...  Note Length\n",
              "0     ogressNote SubjectivePatient IDfemaleChief Com...  ...         3355\n",
              "1     ogressNote SubjectivePatient IDfemaleChief Com...  ...         2566\n",
              "3     HistoryChief ComplaintPatientArm Pain rightatr...  ...         1499\n",
              "4     ogressNote SubjectivePatient IDfemaleChief Com...  ...         3435\n",
              "9     Progress Note SubjectivePatient IDfemaleChief ...  ...         2197\n",
              "...                                                 ...  ...          ...\n",
              "1223  Tylenolmdsacolicknotifiedpending bloodurine cu...  ...         2485\n",
              "1224  ORTHOPAEDICS DAILYNOTEDaysPost-Op *Left* ORIFF...  ...         2859\n",
              "1225  MEDICINEPHYSICIANDischarge datePhysicianNo att...  ...         3896\n",
              "1247  RENAL ProgressPatient IDRmalePMH/oHTNs/p chron...  ...         2447\n",
              "1278  OFFICE VISITDATESERVICEpatientright hand domin...  ...          612\n",
              "\n",
              "[349 rows x 3 columns]"
            ]
          },
          "metadata": {
            "tags": []
          },
          "execution_count": 36
        }
      ]
    },
    {
      "cell_type": "code",
      "metadata": {
        "id": "Eo15Xsn8DkqS",
        "colab_type": "code",
        "colab": {
          "base_uri": "https://localhost:8080/",
          "height": 559
        },
        "outputId": "19d4cc2d-454a-4e58-c3e0-e93414a04000"
      },
      "source": [
        "note_len_df = smoker.sort_values(by='Note Length')\n",
        "plt5 = go.Scatter(x = note_len_df['Note Length'], y = smoker['Current Smoker'], mode='markers')\n",
        "lyt5 = go.Layout(title=\"Notes Length vs. Current Smoker\", xaxis=dict(title='Notes Length'),yaxis=dict(title='Current Smoker'))\n",
        "fig5 = go.Figure(data=[plt5], layout=lyt5)\n",
        "fig5.show()\n",
        "print(\"Notes Length to Current Smoker Correlation:\", note_len_df['Note Length'].corr(smoker['Current Smoker']))"
      ],
      "execution_count": 40,
      "outputs": [
        {
          "output_type": "display_data",
          "data": {
            "text/html": [
              "<html>\n",
              "<head><meta charset=\"utf-8\" /></head>\n",
              "<body>\n",
              "    <div>\n",
              "            <script src=\"https://cdnjs.cloudflare.com/ajax/libs/mathjax/2.7.5/MathJax.js?config=TeX-AMS-MML_SVG\"></script><script type=\"text/javascript\">if (window.MathJax) {MathJax.Hub.Config({SVG: {font: \"STIX-Web\"}});}</script>\n",
              "                <script type=\"text/javascript\">window.PlotlyConfig = {MathJaxConfig: 'local'};</script>\n",
              "        <script src=\"https://cdn.plot.ly/plotly-latest.min.js\"></script>    \n",
              "            <div id=\"4cdbbe20-4305-485e-9b8a-52b7e462e90e\" class=\"plotly-graph-div\" style=\"height:525px; width:100%;\"></div>\n",
              "            <script type=\"text/javascript\">\n",
              "                \n",
              "                    window.PLOTLYENV=window.PLOTLYENV || {};\n",
              "                    \n",
              "                if (document.getElementById(\"4cdbbe20-4305-485e-9b8a-52b7e462e90e\")) {\n",
              "                    Plotly.newPlot(\n",
              "                        '4cdbbe20-4305-485e-9b8a-52b7e462e90e',\n",
              "                        [{\"mode\": \"markers\", \"type\": \"scatter\", \"x\": [62, 145, 147, 263, 263, 368, 394, 500, 612, 624, 792, 816, 854, 863, 885, 891, 917, 952, 965, 969, 975, 982, 1011, 1020, 1021, 1023, 1055, 1073, 1081, 1083, 1121, 1121, 1154, 1159, 1159, 1176, 1176, 1191, 1195, 1202, 1202, 1220, 1236, 1240, 1241, 1244, 1259, 1266, 1268, 1271, 1271, 1282, 1282, 1292, 1292, 1345, 1348, 1348, 1366, 1372, 1382, 1382, 1386, 1386, 1400, 1401, 1418, 1455, 1470, 1470, 1482, 1495, 1499, 1537, 1555, 1567, 1584, 1584, 1623, 1649, 1652, 1655, 1675, 1676, 1690, 1694, 1697, 1710, 1711, 1714, 1717, 1723, 1723, 1757, 1758, 1774, 1785, 1790, 1795, 1813, 1864, 1867, 1878, 1896, 1905, 1913, 1933, 1941, 1946, 1965, 1969, 1973, 1974, 1975, 1978, 1980, 1993, 2003, 2008, 2018, 2028, 2042, 2044, 2062, 2083, 2098, 2106, 2109, 2116, 2117, 2122, 2179, 2180, 2183, 2197, 2235, 2241, 2249, 2250, 2251, 2263, 2265, 2268, 2281, 2293, 2305, 2312, 2313, 2313, 2326, 2330, 2365, 2372, 2375, 2384, 2393, 2400, 2437, 2444, 2447, 2454, 2461, 2463, 2471, 2474, 2485, 2493, 2493, 2510, 2510, 2522, 2525, 2544, 2551, 2566, 2574, 2576, 2581, 2581, 2590, 2593, 2598, 2605, 2611, 2617, 2623, 2673, 2683, 2684, 2697, 2705, 2724, 2727, 2731, 2733, 2761, 2777, 2779, 2787, 2787, 2804, 2811, 2823, 2830, 2838, 2838, 2859, 2866, 2868, 2868, 2879, 2891, 2895, 2920, 2922, 2928, 2936, 2938, 2938, 2940, 2942, 3015, 3028, 3041, 3050, 3063, 3104, 3110, 3113, 3132, 3137, 3140, 3158, 3158, 3164, 3165, 3173, 3189, 3203, 3215, 3229, 3252, 3321, 3330, 3347, 3347, 3353, 3355, 3370, 3372, 3398, 3402, 3409, 3411, 3420, 3431, 3435, 3438, 3465, 3480, 3485, 3490, 3513, 3518, 3543, 3547, 3559, 3566, 3573, 3575, 3584, 3585, 3613, 3624, 3632, 3634, 3641, 3641, 3650, 3701, 3714, 3793, 3808, 3855, 3896, 3903, 3906, 3921, 3922, 3935, 3963, 3986, 3994, 4106, 4109, 4116, 4134, 4141, 4159, 4167, 4178, 4178, 4245, 4254, 4303, 4314, 4369, 4387, 4441, 4450, 4497, 4541, 4541, 4635, 4672, 4673, 4728, 4819, 4823, 4823, 4838, 4990, 5139, 5142, 5145, 5148, 5355, 5383, 5414, 5438, 5474, 5505, 5509, 5535, 5543, 5667, 5708, 5726, 5815, 6039, 6118, 6183, 6614, 6958, 7032, 7121, 7439, 7814, 10608], \"y\": [1, 1, 1, 1, 1, 1, 1, 1, 1, 1, 1, 1, 1, 1, 1, 1, 1, 1, 1, 1, 1, 1, 1, 1, 1, 1, 1, 1, 1, 1, 1, 1, 1, 1, 1, 1, 1, 1, 1, 1, 1, 1, 1, 1, 1, 1, 1, 1, 1, 1, 1, 1, 1, 1, 1, 1, 1, 1, 1, 1, 1, 1, 0, 0, 0, 0, 1, 1, 0, 1, 0, 1, 1, 0, 1, 1, 1, 1, 1, 0, 0, 1, 1, 1, 1, 1, 0, 0, 1, 1, 1, 1, 1, 1, 1, 1, 1, 1, 1, 1, 1, 1, 1, 1, 1, 1, 1, 1, 1, 1, 1, 1, 1, 1, 1, 1, 1, 1, 1, 1, 1, 0, 1, 1, 1, 1, 1, 1, 0, 1, 1, 1, 1, 1, 1, 1, 1, 1, 0, 1, 0, 0, 1, 1, 1, 1, 1, 1, 1, 1, 1, 1, 0, 0, 0, 1, 1, 1, 1, 1, 1, 1, 1, 1, 1, 1, 1, 1, 1, 1, 1, 1, 1, 1, 1, 1, 1, 1, 1, 1, 1, 1, 1, 1, 1, 1, 1, 1, 1, 1, 1, 1, 1, 1, 1, 1, 1, 0, 0, 1, 0, 0, 0, 1, 1, 1, 1, 1, 1, 1, 1, 1, 1, 1, 1, 1, 1, 1, 1, 1, 1, 1, 1, 1, 1, 1, 1, 1, 1, 1, 1, 1, 1, 1, 1, 1, 1, 1, 1, 1, 1, 1, 1, 1, 0, 0, 0, 1, 1, 1, 1, 1, 1, 1, 1, 1, 1, 1, 1, 1, 1, 1, 0, 1, 1, 1, 1, 1, 1, 1, 1, 1, 1, 1, 1, 1, 1, 1, 1, 1, 1, 1, 0, 1, 1, 1, 1, 1, 1, 1, 1, 1, 1, 1, 1, 1, 1, 1, 1, 1, 1, 1, 1, 1, 1, 1, 1, 1, 1, 1, 0, 1, 0, 0, 1, 1, 1, 1, 1, 1, 1, 1, 1, 1, 1, 1, 1, 1, 1, 1, 1, 1, 1, 1, 1, 1, 1, 1, 1, 1, 1, 1, 1, 1, 1, 1, 1, 0, 0]}],\n",
              "                        {\"template\": {\"data\": {\"bar\": [{\"error_x\": {\"color\": \"#2a3f5f\"}, \"error_y\": {\"color\": \"#2a3f5f\"}, \"marker\": {\"line\": {\"color\": \"#E5ECF6\", \"width\": 0.5}}, \"type\": \"bar\"}], \"barpolar\": [{\"marker\": {\"line\": {\"color\": \"#E5ECF6\", \"width\": 0.5}}, \"type\": \"barpolar\"}], \"carpet\": [{\"aaxis\": {\"endlinecolor\": \"#2a3f5f\", \"gridcolor\": \"white\", \"linecolor\": \"white\", \"minorgridcolor\": \"white\", \"startlinecolor\": \"#2a3f5f\"}, \"baxis\": {\"endlinecolor\": \"#2a3f5f\", \"gridcolor\": \"white\", \"linecolor\": \"white\", \"minorgridcolor\": \"white\", \"startlinecolor\": \"#2a3f5f\"}, \"type\": \"carpet\"}], \"choropleth\": [{\"colorbar\": {\"outlinewidth\": 0, \"ticks\": \"\"}, \"type\": \"choropleth\"}], \"contour\": [{\"colorbar\": {\"outlinewidth\": 0, \"ticks\": \"\"}, \"colorscale\": [[0.0, \"#0d0887\"], [0.1111111111111111, \"#46039f\"], [0.2222222222222222, \"#7201a8\"], [0.3333333333333333, \"#9c179e\"], [0.4444444444444444, \"#bd3786\"], [0.5555555555555556, \"#d8576b\"], [0.6666666666666666, \"#ed7953\"], [0.7777777777777778, \"#fb9f3a\"], [0.8888888888888888, \"#fdca26\"], [1.0, \"#f0f921\"]], \"type\": \"contour\"}], \"contourcarpet\": [{\"colorbar\": {\"outlinewidth\": 0, \"ticks\": \"\"}, \"type\": \"contourcarpet\"}], \"heatmap\": [{\"colorbar\": {\"outlinewidth\": 0, \"ticks\": \"\"}, \"colorscale\": [[0.0, \"#0d0887\"], [0.1111111111111111, \"#46039f\"], [0.2222222222222222, \"#7201a8\"], [0.3333333333333333, \"#9c179e\"], [0.4444444444444444, \"#bd3786\"], [0.5555555555555556, \"#d8576b\"], [0.6666666666666666, \"#ed7953\"], [0.7777777777777778, \"#fb9f3a\"], [0.8888888888888888, \"#fdca26\"], [1.0, \"#f0f921\"]], \"type\": \"heatmap\"}], \"heatmapgl\": [{\"colorbar\": {\"outlinewidth\": 0, \"ticks\": \"\"}, \"colorscale\": [[0.0, \"#0d0887\"], [0.1111111111111111, \"#46039f\"], [0.2222222222222222, \"#7201a8\"], [0.3333333333333333, \"#9c179e\"], [0.4444444444444444, \"#bd3786\"], [0.5555555555555556, \"#d8576b\"], [0.6666666666666666, \"#ed7953\"], [0.7777777777777778, \"#fb9f3a\"], [0.8888888888888888, \"#fdca26\"], [1.0, \"#f0f921\"]], \"type\": \"heatmapgl\"}], \"histogram\": [{\"marker\": {\"colorbar\": {\"outlinewidth\": 0, \"ticks\": \"\"}}, \"type\": \"histogram\"}], \"histogram2d\": [{\"colorbar\": {\"outlinewidth\": 0, \"ticks\": \"\"}, \"colorscale\": [[0.0, \"#0d0887\"], [0.1111111111111111, \"#46039f\"], [0.2222222222222222, \"#7201a8\"], [0.3333333333333333, \"#9c179e\"], [0.4444444444444444, \"#bd3786\"], [0.5555555555555556, \"#d8576b\"], [0.6666666666666666, \"#ed7953\"], [0.7777777777777778, \"#fb9f3a\"], [0.8888888888888888, \"#fdca26\"], [1.0, \"#f0f921\"]], \"type\": \"histogram2d\"}], \"histogram2dcontour\": [{\"colorbar\": {\"outlinewidth\": 0, \"ticks\": \"\"}, \"colorscale\": [[0.0, \"#0d0887\"], [0.1111111111111111, \"#46039f\"], [0.2222222222222222, \"#7201a8\"], [0.3333333333333333, \"#9c179e\"], [0.4444444444444444, \"#bd3786\"], [0.5555555555555556, \"#d8576b\"], [0.6666666666666666, \"#ed7953\"], [0.7777777777777778, \"#fb9f3a\"], [0.8888888888888888, \"#fdca26\"], [1.0, \"#f0f921\"]], \"type\": \"histogram2dcontour\"}], \"mesh3d\": [{\"colorbar\": {\"outlinewidth\": 0, \"ticks\": \"\"}, \"type\": \"mesh3d\"}], \"parcoords\": [{\"line\": {\"colorbar\": {\"outlinewidth\": 0, \"ticks\": \"\"}}, \"type\": \"parcoords\"}], \"pie\": [{\"automargin\": true, \"type\": \"pie\"}], \"scatter\": [{\"marker\": {\"colorbar\": {\"outlinewidth\": 0, \"ticks\": \"\"}}, \"type\": \"scatter\"}], \"scatter3d\": [{\"line\": {\"colorbar\": {\"outlinewidth\": 0, \"ticks\": \"\"}}, \"marker\": {\"colorbar\": {\"outlinewidth\": 0, \"ticks\": \"\"}}, \"type\": \"scatter3d\"}], \"scattercarpet\": [{\"marker\": {\"colorbar\": {\"outlinewidth\": 0, \"ticks\": \"\"}}, \"type\": \"scattercarpet\"}], \"scattergeo\": [{\"marker\": {\"colorbar\": {\"outlinewidth\": 0, \"ticks\": \"\"}}, \"type\": \"scattergeo\"}], \"scattergl\": [{\"marker\": {\"colorbar\": {\"outlinewidth\": 0, \"ticks\": \"\"}}, \"type\": \"scattergl\"}], \"scattermapbox\": [{\"marker\": {\"colorbar\": {\"outlinewidth\": 0, \"ticks\": \"\"}}, \"type\": \"scattermapbox\"}], \"scatterpolar\": [{\"marker\": {\"colorbar\": {\"outlinewidth\": 0, \"ticks\": \"\"}}, \"type\": \"scatterpolar\"}], \"scatterpolargl\": [{\"marker\": {\"colorbar\": {\"outlinewidth\": 0, \"ticks\": \"\"}}, \"type\": \"scatterpolargl\"}], \"scatterternary\": [{\"marker\": {\"colorbar\": {\"outlinewidth\": 0, \"ticks\": \"\"}}, \"type\": \"scatterternary\"}], \"surface\": [{\"colorbar\": {\"outlinewidth\": 0, \"ticks\": \"\"}, \"colorscale\": [[0.0, \"#0d0887\"], [0.1111111111111111, \"#46039f\"], [0.2222222222222222, \"#7201a8\"], [0.3333333333333333, \"#9c179e\"], [0.4444444444444444, \"#bd3786\"], [0.5555555555555556, \"#d8576b\"], [0.6666666666666666, \"#ed7953\"], [0.7777777777777778, \"#fb9f3a\"], [0.8888888888888888, \"#fdca26\"], [1.0, \"#f0f921\"]], \"type\": \"surface\"}], \"table\": [{\"cells\": {\"fill\": {\"color\": \"#EBF0F8\"}, \"line\": {\"color\": \"white\"}}, \"header\": {\"fill\": {\"color\": \"#C8D4E3\"}, \"line\": {\"color\": \"white\"}}, \"type\": \"table\"}]}, \"layout\": {\"annotationdefaults\": {\"arrowcolor\": \"#2a3f5f\", \"arrowhead\": 0, \"arrowwidth\": 1}, \"coloraxis\": {\"colorbar\": {\"outlinewidth\": 0, \"ticks\": \"\"}}, \"colorscale\": {\"diverging\": [[0, \"#8e0152\"], [0.1, \"#c51b7d\"], [0.2, \"#de77ae\"], [0.3, \"#f1b6da\"], [0.4, \"#fde0ef\"], [0.5, \"#f7f7f7\"], [0.6, \"#e6f5d0\"], [0.7, \"#b8e186\"], [0.8, \"#7fbc41\"], [0.9, \"#4d9221\"], [1, \"#276419\"]], \"sequential\": [[0.0, \"#0d0887\"], [0.1111111111111111, \"#46039f\"], [0.2222222222222222, \"#7201a8\"], [0.3333333333333333, \"#9c179e\"], [0.4444444444444444, \"#bd3786\"], [0.5555555555555556, \"#d8576b\"], [0.6666666666666666, \"#ed7953\"], [0.7777777777777778, \"#fb9f3a\"], [0.8888888888888888, \"#fdca26\"], [1.0, \"#f0f921\"]], \"sequentialminus\": [[0.0, \"#0d0887\"], [0.1111111111111111, \"#46039f\"], [0.2222222222222222, \"#7201a8\"], [0.3333333333333333, \"#9c179e\"], [0.4444444444444444, \"#bd3786\"], [0.5555555555555556, \"#d8576b\"], [0.6666666666666666, \"#ed7953\"], [0.7777777777777778, \"#fb9f3a\"], [0.8888888888888888, \"#fdca26\"], [1.0, \"#f0f921\"]]}, \"colorway\": [\"#636efa\", \"#EF553B\", \"#00cc96\", \"#ab63fa\", \"#FFA15A\", \"#19d3f3\", \"#FF6692\", \"#B6E880\", \"#FF97FF\", \"#FECB52\"], \"font\": {\"color\": \"#2a3f5f\"}, \"geo\": {\"bgcolor\": \"white\", \"lakecolor\": \"white\", \"landcolor\": \"#E5ECF6\", \"showlakes\": true, \"showland\": true, \"subunitcolor\": \"white\"}, \"hoverlabel\": {\"align\": \"left\"}, \"hovermode\": \"closest\", \"mapbox\": {\"style\": \"light\"}, \"paper_bgcolor\": \"white\", \"plot_bgcolor\": \"#E5ECF6\", \"polar\": {\"angularaxis\": {\"gridcolor\": \"white\", \"linecolor\": \"white\", \"ticks\": \"\"}, \"bgcolor\": \"#E5ECF6\", \"radialaxis\": {\"gridcolor\": \"white\", \"linecolor\": \"white\", \"ticks\": \"\"}}, \"scene\": {\"xaxis\": {\"backgroundcolor\": \"#E5ECF6\", \"gridcolor\": \"white\", \"gridwidth\": 2, \"linecolor\": \"white\", \"showbackground\": true, \"ticks\": \"\", \"zerolinecolor\": \"white\"}, \"yaxis\": {\"backgroundcolor\": \"#E5ECF6\", \"gridcolor\": \"white\", \"gridwidth\": 2, \"linecolor\": \"white\", \"showbackground\": true, \"ticks\": \"\", \"zerolinecolor\": \"white\"}, \"zaxis\": {\"backgroundcolor\": \"#E5ECF6\", \"gridcolor\": \"white\", \"gridwidth\": 2, \"linecolor\": \"white\", \"showbackground\": true, \"ticks\": \"\", \"zerolinecolor\": \"white\"}}, \"shapedefaults\": {\"line\": {\"color\": \"#2a3f5f\"}}, \"ternary\": {\"aaxis\": {\"gridcolor\": \"white\", \"linecolor\": \"white\", \"ticks\": \"\"}, \"baxis\": {\"gridcolor\": \"white\", \"linecolor\": \"white\", \"ticks\": \"\"}, \"bgcolor\": \"#E5ECF6\", \"caxis\": {\"gridcolor\": \"white\", \"linecolor\": \"white\", \"ticks\": \"\"}}, \"title\": {\"x\": 0.05}, \"xaxis\": {\"automargin\": true, \"gridcolor\": \"white\", \"linecolor\": \"white\", \"ticks\": \"\", \"title\": {\"standoff\": 15}, \"zerolinecolor\": \"white\", \"zerolinewidth\": 2}, \"yaxis\": {\"automargin\": true, \"gridcolor\": \"white\", \"linecolor\": \"white\", \"ticks\": \"\", \"title\": {\"standoff\": 15}, \"zerolinecolor\": \"white\", \"zerolinewidth\": 2}}}, \"title\": {\"text\": \"Notes Length vs. Current Smoker\"}, \"xaxis\": {\"title\": {\"text\": \"Notes Length\"}}, \"yaxis\": {\"title\": {\"text\": \"Current Smoker\"}}},\n",
              "                        {\"responsive\": true}\n",
              "                    ).then(function(){\n",
              "                            \n",
              "var gd = document.getElementById('4cdbbe20-4305-485e-9b8a-52b7e462e90e');\n",
              "var x = new MutationObserver(function (mutations, observer) {{\n",
              "        var display = window.getComputedStyle(gd).display;\n",
              "        if (!display || display === 'none') {{\n",
              "            console.log([gd, 'removed!']);\n",
              "            Plotly.purge(gd);\n",
              "            observer.disconnect();\n",
              "        }}\n",
              "}});\n",
              "\n",
              "// Listen for the removal of the full notebook cells\n",
              "var notebookContainer = gd.closest('#notebook-container');\n",
              "if (notebookContainer) {{\n",
              "    x.observe(notebookContainer, {childList: true});\n",
              "}}\n",
              "\n",
              "// Listen for the clearing of the current output cell\n",
              "var outputEl = gd.closest('.output');\n",
              "if (outputEl) {{\n",
              "    x.observe(outputEl, {childList: true});\n",
              "}}\n",
              "\n",
              "                        })\n",
              "                };\n",
              "                \n",
              "            </script>\n",
              "        </div>\n",
              "</body>\n",
              "</html>"
            ]
          },
          "metadata": {
            "tags": []
          }
        },
        {
          "output_type": "stream",
          "text": [
            "Notes Length to Current Smoker Correlation: 0.05503611507481271\n"
          ],
          "name": "stdout"
        }
      ]
    },
    {
      "cell_type": "code",
      "metadata": {
        "id": "84OWvoYgDmkg",
        "colab_type": "code",
        "colab": {
          "base_uri": "https://localhost:8080/",
          "height": 221
        },
        "outputId": "bca41960-304a-40d2-e5ed-d9aaf6f111b8"
      },
      "source": [
        "x1 = smoker['NOTE']\n",
        "vect = TfidfVectorizer(ngram_range = (1,2))\n",
        "x_vect1 = vect.fit_transform(x1)\n",
        "\n",
        "y3 = smoker['Current Smoker']\n",
        "y3"
      ],
      "execution_count": 38,
      "outputs": [
        {
          "output_type": "execute_result",
          "data": {
            "text/plain": [
              "0       1\n",
              "1       1\n",
              "3       1\n",
              "4       1\n",
              "9       1\n",
              "       ..\n",
              "1223    1\n",
              "1224    1\n",
              "1225    1\n",
              "1247    0\n",
              "1278    0\n",
              "Name: Current Smoker, Length: 349, dtype: int64"
            ]
          },
          "metadata": {
            "tags": []
          },
          "execution_count": 38
        }
      ]
    },
    {
      "cell_type": "code",
      "metadata": {
        "id": "V39a1f8BDod0",
        "colab_type": "code",
        "colab": {
          "base_uri": "https://localhost:8080/",
          "height": 323
        },
        "outputId": "e2d2b24f-aaea-431e-8d31-348ced1c8cc8"
      },
      "source": [
        "svmy3,svmp3 = linsvc(x_vect1,y3)\n",
        "knny3,knnp3 = revknn(x_vect1,y3)\n",
        "nby3,nbp3 = revnb(x_vect1,y3)\n"
      ],
      "execution_count": 41,
      "outputs": [
        {
          "output_type": "stream",
          "text": [
            "### Linear SVC: ###\n",
            "Accuracy: 93.18 %\n",
            "F1 score: 96.39 %\n",
            "Precision: 100.0 %\n",
            "Recall: 93.02 % \n",
            "\n",
            "### kNN: ###\n",
            "Accuracy: 87.5 %\n",
            "F1 score: 92.62 %\n",
            "Precision: 86.25 %\n",
            "Recall: 100.0 % \n",
            "\n",
            "### Naive Bayes: ###\n",
            "Accuracy: 90.91 %\n",
            "F1 score: 95.24 %\n",
            "Precision: 100.0 %\n",
            "Recall: 90.91 % \n",
            "\n"
          ],
          "name": "stdout"
        }
      ]
    },
    {
      "cell_type": "code",
      "metadata": {
        "id": "UUK0-_ugDvm4",
        "colab_type": "code",
        "colab": {
          "base_uri": "https://localhost:8080/",
          "height": 1000
        },
        "outputId": "fa391c2f-c27f-46a3-e396-5b232d8913c1"
      },
      "source": [
        "c13 = confusion_matrix(svmy3,svmp3)\n",
        "c23 = confusion_matrix(knny3,knnp3)\n",
        "c33 = confusion_matrix(nby3,nbp3)\n",
        "class_names = ['Y', 'N']\n",
        "plt.figure()\n",
        "plot_confusion_matrix(c13, classes=class_names,normalize=False,title='Smoker - Confusion matrix - SVM ')\n",
        "plt.figure()\n",
        "plot_confusion_matrix(c23, classes=class_names,normalize=False,title='Smoker - Confusion matrix - KNN')\n",
        "plt.figure()\n",
        "plot_confusion_matrix(c33, classes=class_names,normalize=False,title='Smoker - Confusion matrix - NB')"
      ],
      "execution_count": 42,
      "outputs": [
        {
          "output_type": "stream",
          "text": [
            "Confusion matrix, without normalization\n",
            "[[ 2  6]\n",
            " [ 0 80]]\n",
            "Confusion matrix, without normalization\n",
            "[[ 8  0]\n",
            " [11 69]]\n",
            "Confusion matrix, without normalization\n",
            "[[ 0  8]\n",
            " [ 0 80]]\n"
          ],
          "name": "stdout"
        },
        {
          "output_type": "display_data",
          "data": {
            "image/png": "[encoded data removed]",
            "text/plain": [
              "<Figure size 432x288 with 2 Axes>"
            ]
          },
          "metadata": {
            "tags": [],
            "needs_background": "light"
          }
        },
        {
          "output_type": "display_data",
          "data": {
            "image/png": "[encoded data removed]",
            "text/plain": [
              "<Figure size 432x288 with 2 Axes>"
            ]
          },
          "metadata": {
            "tags": [],
            "needs_background": "light"
          }
        },
        {
          "output_type": "display_data",
          "data": {
            "image/png": "[encoded data removed]",
            "text/plain": [
              "<Figure size 432x288 with 2 Axes>"
            ]
          },
          "metadata": {
            "tags": [],
            "needs_background": "light"
          }
        }
      ]
    },
    {
      "cell_type": "code",
      "metadata": {
        "id": "k2mnlvE1DyYG",
        "colab_type": "code",
        "colab": {}
      },
      "source": [
        ""
      ],
      "execution_count": 0,
      "outputs": []
    }
  ]
}